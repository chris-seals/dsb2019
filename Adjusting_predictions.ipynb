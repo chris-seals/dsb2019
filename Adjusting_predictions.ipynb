{
 "cells": [
  {
   "cell_type": "code",
   "execution_count": 1,
   "metadata": {
    "ExecuteTime": {
     "end_time": "2020-01-09T02:33:57.450589Z",
     "start_time": "2020-01-09T02:33:56.352116Z"
    }
   },
   "outputs": [],
   "source": [
    "import pandas as pd"
   ]
  },
  {
   "cell_type": "code",
   "execution_count": 2,
   "metadata": {
    "ExecuteTime": {
     "end_time": "2020-01-09T02:34:10.668511Z",
     "start_time": "2020-01-09T02:34:10.661462Z"
    }
   },
   "outputs": [],
   "source": [
    "preds = pd.read_csv('preds.csv')"
   ]
  },
  {
   "cell_type": "code",
   "execution_count": 4,
   "metadata": {
    "ExecuteTime": {
     "end_time": "2020-01-09T02:59:45.728437Z",
     "start_time": "2020-01-09T02:59:45.720436Z"
    }
   },
   "outputs": [
    {
     "data": {
      "text/plain": [
       "3    500\n",
       "0    239\n",
       "1    136\n",
       "2    125\n",
       "Name: accuracy_group, dtype: int64"
      ]
     },
     "execution_count": 4,
     "metadata": {},
     "output_type": "execute_result"
    }
   ],
   "source": [
    "preds.accuracy_group.value_counts()"
   ]
  },
  {
   "cell_type": "code",
   "execution_count": null,
   "metadata": {},
   "outputs": [],
   "source": [
    "\n"
   ]
  }
 ],
 "metadata": {
  "hide_input": false,
  "kernelspec": {
   "display_name": "DataScienceBowl",
   "language": "python",
   "name": "datasciencebowl"
  },
  "language_info": {
   "codemirror_mode": {
    "name": "ipython",
    "version": 3
   },
   "file_extension": ".py",
   "mimetype": "text/x-python",
   "name": "python",
   "nbconvert_exporter": "python",
   "pygments_lexer": "ipython3",
   "version": "3.7.0"
  }
 },
 "nbformat": 4,
 "nbformat_minor": 2
}
