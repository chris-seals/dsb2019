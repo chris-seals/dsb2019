{
 "cells": [
  {
   "cell_type": "code",
   "execution_count": 6,
   "metadata": {
    "ExecuteTime": {
     "end_time": "2020-01-10T17:11:49.968625Z",
     "start_time": "2020-01-10T17:11:49.965627Z"
    }
   },
   "outputs": [],
   "source": [
    "from sklearn.metrics import make_scorer, cohen_kappa_score\n",
    "import pandas as pd\n",
    "import imblearn"
   ]
  },
  {
   "cell_type": "markdown",
   "metadata": {},
   "source": [
    "## upsample classes"
   ]
  },
  {
   "cell_type": "code",
   "execution_count": 5,
   "metadata": {
    "ExecuteTime": {
     "end_time": "2020-01-10T17:11:17.043893Z",
     "start_time": "2020-01-10T17:11:16.032170Z"
    }
   },
   "outputs": [
    {
     "data": {
      "text/plain": [
       "3    8845\n",
       "0    4229\n",
       "1    2411\n",
       "2    2205\n",
       "Name: accuracy_group, dtype: int64"
      ]
     },
     "execution_count": 5,
     "metadata": {},
     "output_type": "execute_result"
    }
   ],
   "source": [
    "reduced_train = pd.read_csv('reduce_train.csv')\n",
    "reduced_train.accuracy_group.value_counts()"
   ]
  },
  {
   "cell_type": "code",
   "execution_count": 12,
   "metadata": {
    "ExecuteTime": {
     "end_time": "2020-01-10T17:18:22.370373Z",
     "start_time": "2020-01-10T17:18:22.365377Z"
    }
   },
   "outputs": [],
   "source": [
    "cols_to_drop = [\"game_session\", \"installation_id\", \"accuracy_group\"]"
   ]
  },
  {
   "cell_type": "code",
   "execution_count": 13,
   "metadata": {
    "ExecuteTime": {
     "end_time": "2020-01-10T17:18:23.929372Z",
     "start_time": "2020-01-10T17:18:23.926371Z"
    }
   },
   "outputs": [],
   "source": [
    "sm = imblearn.over_sampling.SMOTE(random_state=42)"
   ]
  },
  {
   "cell_type": "code",
   "execution_count": 14,
   "metadata": {
    "ExecuteTime": {
     "end_time": "2020-01-10T17:18:24.547937Z",
     "start_time": "2020-01-10T17:18:24.332937Z"
    }
   },
   "outputs": [],
   "source": [
    "X_train = reduced_train.drop(cols_to_drop, axis=1)\n",
    "y_train = reduced_train.accuracy_group"
   ]
  },
  {
   "cell_type": "code",
   "execution_count": 15,
   "metadata": {
    "ExecuteTime": {
     "end_time": "2020-01-10T17:19:19.920160Z",
     "start_time": "2020-01-10T17:18:25.784936Z"
    }
   },
   "outputs": [],
   "source": [
    "X_train_res, y_train_res = sm.fit_sample(X_train, y_train) "
   ]
  },
  {
   "cell_type": "code",
   "execution_count": 19,
   "metadata": {
    "ExecuteTime": {
     "end_time": "2020-01-10T17:20:21.014371Z",
     "start_time": "2020-01-10T17:20:21.008369Z"
    }
   },
   "outputs": [
    {
     "data": {
      "text/plain": [
       "RangeIndex(start=0, stop=35380, step=1)"
      ]
     },
     "execution_count": 19,
     "metadata": {},
     "output_type": "execute_result"
    }
   ],
   "source": [
    "X_train_res.index"
   ]
  },
  {
   "cell_type": "code",
   "execution_count": 21,
   "metadata": {
    "ExecuteTime": {
     "end_time": "2020-01-10T17:20:29.364273Z",
     "start_time": "2020-01-10T17:20:29.359282Z"
    }
   },
   "outputs": [
    {
     "data": {
      "text/plain": [
       "RangeIndex(start=0, stop=35380, step=1)"
      ]
     },
     "execution_count": 21,
     "metadata": {},
     "output_type": "execute_result"
    }
   ],
   "source": [
    "y_train_res.index"
   ]
  },
  {
   "cell_type": "code",
   "execution_count": 28,
   "metadata": {
    "ExecuteTime": {
     "end_time": "2020-01-10T17:36:33.308745Z",
     "start_time": "2020-01-10T17:36:33.304162Z"
    }
   },
   "outputs": [],
   "source": [
    "X_train_res['accuracy_group'] = y_train_res"
   ]
  },
  {
   "cell_type": "code",
   "execution_count": 31,
   "metadata": {
    "ExecuteTime": {
     "end_time": "2020-01-10T17:37:47.668543Z",
     "start_time": "2020-01-10T17:37:23.826922Z"
    }
   },
   "outputs": [],
   "source": [
    "X_train_res.to_csv('reduced_train_balanced.csv', index=False)"
   ]
  },
  {
   "cell_type": "code",
   "execution_count": null,
   "metadata": {},
   "outputs": [],
   "source": []
  }
 ],
 "metadata": {
  "hide_input": false,
  "kernelspec": {
   "display_name": "DataScienceBowl",
   "language": "python",
   "name": "datasciencebowl"
  },
  "language_info": {
   "codemirror_mode": {
    "name": "ipython",
    "version": 3
   },
   "file_extension": ".py",
   "mimetype": "text/x-python",
   "name": "python",
   "nbconvert_exporter": "python",
   "pygments_lexer": "ipython3",
   "version": "3.7.0"
  }
 },
 "nbformat": 4,
 "nbformat_minor": 2
}
