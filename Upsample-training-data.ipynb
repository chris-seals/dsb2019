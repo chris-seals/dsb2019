{
 "cells": [
  {
   "cell_type": "code",
   "execution_count": 19,
   "metadata": {
    "ExecuteTime": {
     "end_time": "2020-01-13T22:22:56.924268Z",
     "start_time": "2020-01-13T22:22:56.920242Z"
    }
   },
   "outputs": [],
   "source": [
    "from sklearn.metrics import make_scorer, cohen_kappa_score\n",
    "from sklearn.model_selection import train_test_split\n",
    "import pandas as pd\n",
    "import imblearn"
   ]
  },
  {
   "cell_type": "markdown",
   "metadata": {},
   "source": [
    "## upsample classes"
   ]
  },
  {
   "cell_type": "code",
   "execution_count": 30,
   "metadata": {
    "ExecuteTime": {
     "end_time": "2020-01-13T22:30:08.150206Z",
     "start_time": "2020-01-13T22:30:06.772879Z"
    }
   },
   "outputs": [
    {
     "data": {
      "text/plain": [
       "3    8845\n",
       "0    4229\n",
       "1    2411\n",
       "2    2205\n",
       "Name: accuracy_group, dtype: int64"
      ]
     },
     "execution_count": 30,
     "metadata": {},
     "output_type": "execute_result"
    }
   ],
   "source": [
    "reduced_train = pd.read_csv('reduce_train.csv')\n",
    "reduced_train.accuracy_group.value_counts()"
   ]
  },
  {
   "cell_type": "code",
   "execution_count": 16,
   "metadata": {
    "ExecuteTime": {
     "end_time": "2020-01-13T22:22:17.522143Z",
     "start_time": "2020-01-13T22:22:17.518131Z"
    }
   },
   "outputs": [],
   "source": [
    "cols_to_drop = [\"game_session\", \"installation_id\", \"accuracy_group\"]"
   ]
  },
  {
   "cell_type": "code",
   "execution_count": 17,
   "metadata": {
    "ExecuteTime": {
     "end_time": "2020-01-13T22:22:28.584065Z",
     "start_time": "2020-01-13T22:22:28.497064Z"
    }
   },
   "outputs": [],
   "source": [
    "X = reduced_train.drop(cols_to_drop, axis=1)\n",
    "y = reduced_train.accuracy_group"
   ]
  },
  {
   "cell_type": "code",
   "execution_count": 31,
   "metadata": {
    "ExecuteTime": {
     "end_time": "2020-01-13T22:30:13.293334Z",
     "start_time": "2020-01-13T22:30:13.087340Z"
    }
   },
   "outputs": [],
   "source": [
    "X_train, X_test, y_train, y_test = train_test_split(X, y, test_size=.2, random_state=42)"
   ]
  },
  {
   "cell_type": "code",
   "execution_count": 29,
   "metadata": {
    "ExecuteTime": {
     "end_time": "2020-01-13T22:29:59.072289Z",
     "start_time": "2020-01-13T22:29:59.063254Z"
    }
   },
   "outputs": [],
   "source": [
    "# given an x_train and y_train, balanced the data\n",
    "\n",
    "\n",
    "def balance_classes(X_train, y_train):\n",
    "    \"\"\" Balance classes such that all accuracy groups are equally represented\"\"\"\n",
    "    \n",
    "    X_train['accuracy_group'] = y_train\n",
    "    train_df = X_train\n",
    "    \n",
    "    from sklearn.utils import resample\n",
    "\n",
    "    # Separate classes\n",
    "    df_0 = train_df[train_df.accuracy_group == 0]\n",
    "    df_1 = train_df[train_df.accuracy_group == 1]\n",
    "    df_2 = train_df[train_df.accuracy_group == 2]\n",
    "    df_3 = train_df[train_df.accuracy_group == 3]\n",
    "\n",
    "    # Highest count to upsample towards\n",
    "    biggest_class = max([x.shape[0] for x in [df_0, df_1, df_2, df_3]])\n",
    "    resampled_dfs = []\n",
    "    for i in [df_0, df_1, df_2, df_3]:\n",
    "        if i.shape[0] != biggest_class:\n",
    "            upsampled_df = resample(i,\n",
    "                                      replace=True,  # sample without replacement\n",
    "                                      n_samples=biggest_class,  # to match majority\n",
    "                                      random_state=42)  # reproducibility\n",
    "            \n",
    "            resampled_dfs.append(upsampled_df)\n",
    "        else:\n",
    "            resampled_dfs.append(i) \n",
    "            \n",
    "\n",
    "    balanced_train_df = pd.concat(resampled_dfs, axis=0)\n",
    "\n",
    "    return balanced_train_df.drop('accuracy_group', axis=1), balanced_train_df.accuracy_group"
   ]
  },
  {
   "cell_type": "code",
   "execution_count": 32,
   "metadata": {
    "ExecuteTime": {
     "end_time": "2020-01-13T22:30:20.582950Z",
     "start_time": "2020-01-13T22:30:19.404613Z"
    }
   },
   "outputs": [
    {
     "name": "stderr",
     "output_type": "stream",
     "text": [
      "C:\\Users\\604572\\AppData\\Roaming\\Python\\Python37\\site-packages\\ipykernel_launcher.py:7: SettingWithCopyWarning: \n",
      "A value is trying to be set on a copy of a slice from a DataFrame.\n",
      "Try using .loc[row_indexer,col_indexer] = value instead\n",
      "\n",
      "See the caveats in the documentation: http://pandas.pydata.org/pandas-docs/stable/user_guide/indexing.html#returning-a-view-versus-a-copy\n",
      "  import sys\n"
     ]
    }
   ],
   "source": [
    "X_train, y_train = balance_classes(X_train, y_train)"
   ]
  },
  {
   "cell_type": "code",
   "execution_count": 33,
   "metadata": {
    "ExecuteTime": {
     "end_time": "2020-01-13T22:30:20.595977Z",
     "start_time": "2020-01-13T22:30:20.584948Z"
    }
   },
   "outputs": [
    {
     "data": {
      "text/plain": [
       "3    7079\n",
       "2    7079\n",
       "1    7079\n",
       "0    7079\n",
       "Name: accuracy_group, dtype: int64"
      ]
     },
     "execution_count": 33,
     "metadata": {},
     "output_type": "execute_result"
    }
   ],
   "source": [
    "y_train.value_counts()"
   ]
  },
  {
   "cell_type": "code",
   "execution_count": null,
   "metadata": {},
   "outputs": [],
   "source": []
  }
 ],
 "metadata": {
  "hide_input": false,
  "kernelspec": {
   "display_name": "DataScienceBowl",
   "language": "python",
   "name": "datasciencebowl"
  },
  "language_info": {
   "codemirror_mode": {
    "name": "ipython",
    "version": 3
   },
   "file_extension": ".py",
   "mimetype": "text/x-python",
   "name": "python",
   "nbconvert_exporter": "python",
   "pygments_lexer": "ipython3",
   "version": "3.7.0"
  }
 },
 "nbformat": 4,
 "nbformat_minor": 2
}
