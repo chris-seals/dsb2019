{
 "cells": [
  {
   "cell_type": "code",
   "execution_count": 1,
   "metadata": {
    "ExecuteTime": {
     "end_time": "2020-01-22T00:28:47.732839Z",
     "start_time": "2020-01-22T00:28:43.800209Z"
    }
   },
   "outputs": [
    {
     "name": "stderr",
     "output_type": "stream",
     "text": [
      "Using TensorFlow backend.\n",
      "C:\\Users\\604572\\Continuum\\anaconda3\\envs\\dsb2019\\lib\\site-packages\\tensorflow\\python\\util\\nest.py:1286: DeprecationWarning: Using or importing the ABCs from 'collections' instead of from 'collections.abc' is deprecated, and in 3.8 it will stop working\n",
      "  _pywrap_tensorflow.RegisterType(\"Mapping\", _collections.Mapping)\n",
      "C:\\Users\\604572\\Continuum\\anaconda3\\envs\\dsb2019\\lib\\site-packages\\tensorflow\\python\\framework\\dtypes.py:516: FutureWarning: Passing (type, 1) or '1type' as a synonym of type is deprecated; in a future version of numpy, it will be understood as (type, (1,)) / '(1,)type'.\n",
      "  _np_qint8 = np.dtype([(\"qint8\", np.int8, 1)])\n",
      "C:\\Users\\604572\\Continuum\\anaconda3\\envs\\dsb2019\\lib\\site-packages\\tensorflow\\python\\framework\\dtypes.py:517: FutureWarning: Passing (type, 1) or '1type' as a synonym of type is deprecated; in a future version of numpy, it will be understood as (type, (1,)) / '(1,)type'.\n",
      "  _np_quint8 = np.dtype([(\"quint8\", np.uint8, 1)])\n",
      "C:\\Users\\604572\\Continuum\\anaconda3\\envs\\dsb2019\\lib\\site-packages\\tensorflow\\python\\framework\\dtypes.py:518: FutureWarning: Passing (type, 1) or '1type' as a synonym of type is deprecated; in a future version of numpy, it will be understood as (type, (1,)) / '(1,)type'.\n",
      "  _np_qint16 = np.dtype([(\"qint16\", np.int16, 1)])\n",
      "C:\\Users\\604572\\Continuum\\anaconda3\\envs\\dsb2019\\lib\\site-packages\\tensorflow\\python\\framework\\dtypes.py:519: FutureWarning: Passing (type, 1) or '1type' as a synonym of type is deprecated; in a future version of numpy, it will be understood as (type, (1,)) / '(1,)type'.\n",
      "  _np_quint16 = np.dtype([(\"quint16\", np.uint16, 1)])\n",
      "C:\\Users\\604572\\Continuum\\anaconda3\\envs\\dsb2019\\lib\\site-packages\\tensorflow\\python\\framework\\dtypes.py:520: FutureWarning: Passing (type, 1) or '1type' as a synonym of type is deprecated; in a future version of numpy, it will be understood as (type, (1,)) / '(1,)type'.\n",
      "  _np_qint32 = np.dtype([(\"qint32\", np.int32, 1)])\n",
      "C:\\Users\\604572\\Continuum\\anaconda3\\envs\\dsb2019\\lib\\site-packages\\tensorflow\\python\\framework\\dtypes.py:525: FutureWarning: Passing (type, 1) or '1type' as a synonym of type is deprecated; in a future version of numpy, it will be understood as (type, (1,)) / '(1,)type'.\n",
      "  np_resource = np.dtype([(\"resource\", np.ubyte, 1)])\n",
      "C:\\Users\\604572\\Continuum\\anaconda3\\envs\\dsb2019\\lib\\site-packages\\tensorflow\\python\\training\\tracking\\object_identity.py:61: DeprecationWarning: Using or importing the ABCs from 'collections' instead of from 'collections.abc' is deprecated, and in 3.8 it will stop working\n",
      "  class ObjectIdentityDictionary(collections.MutableMapping):\n",
      "C:\\Users\\604572\\Continuum\\anaconda3\\envs\\dsb2019\\lib\\site-packages\\tensorflow\\python\\training\\tracking\\data_structures.py:374: DeprecationWarning: Using or importing the ABCs from 'collections' instead of from 'collections.abc' is deprecated, and in 3.8 it will stop working\n",
      "  class _ListWrapper(List, collections.MutableSequence,\n",
      "C:\\Users\\604572\\Continuum\\anaconda3\\envs\\dsb2019\\lib\\site-packages\\tensorboard\\compat\\tensorflow_stub\\dtypes.py:541: FutureWarning: Passing (type, 1) or '1type' as a synonym of type is deprecated; in a future version of numpy, it will be understood as (type, (1,)) / '(1,)type'.\n",
      "  _np_qint8 = np.dtype([(\"qint8\", np.int8, 1)])\n",
      "C:\\Users\\604572\\Continuum\\anaconda3\\envs\\dsb2019\\lib\\site-packages\\tensorboard\\compat\\tensorflow_stub\\dtypes.py:542: FutureWarning: Passing (type, 1) or '1type' as a synonym of type is deprecated; in a future version of numpy, it will be understood as (type, (1,)) / '(1,)type'.\n",
      "  _np_quint8 = np.dtype([(\"quint8\", np.uint8, 1)])\n",
      "C:\\Users\\604572\\Continuum\\anaconda3\\envs\\dsb2019\\lib\\site-packages\\tensorboard\\compat\\tensorflow_stub\\dtypes.py:543: FutureWarning: Passing (type, 1) or '1type' as a synonym of type is deprecated; in a future version of numpy, it will be understood as (type, (1,)) / '(1,)type'.\n",
      "  _np_qint16 = np.dtype([(\"qint16\", np.int16, 1)])\n",
      "C:\\Users\\604572\\Continuum\\anaconda3\\envs\\dsb2019\\lib\\site-packages\\tensorboard\\compat\\tensorflow_stub\\dtypes.py:544: FutureWarning: Passing (type, 1) or '1type' as a synonym of type is deprecated; in a future version of numpy, it will be understood as (type, (1,)) / '(1,)type'.\n",
      "  _np_quint16 = np.dtype([(\"quint16\", np.uint16, 1)])\n",
      "C:\\Users\\604572\\Continuum\\anaconda3\\envs\\dsb2019\\lib\\site-packages\\tensorboard\\compat\\tensorflow_stub\\dtypes.py:545: FutureWarning: Passing (type, 1) or '1type' as a synonym of type is deprecated; in a future version of numpy, it will be understood as (type, (1,)) / '(1,)type'.\n",
      "  _np_qint32 = np.dtype([(\"qint32\", np.int32, 1)])\n",
      "C:\\Users\\604572\\Continuum\\anaconda3\\envs\\dsb2019\\lib\\site-packages\\tensorboard\\compat\\tensorflow_stub\\dtypes.py:550: FutureWarning: Passing (type, 1) or '1type' as a synonym of type is deprecated; in a future version of numpy, it will be understood as (type, (1,)) / '(1,)type'.\n",
      "  np_resource = np.dtype([(\"resource\", np.ubyte, 1)])\n",
      "C:\\Users\\604572\\Continuum\\anaconda3\\envs\\dsb2019\\lib\\site-packages\\keras\\callbacks\\callbacks.py:19: DeprecationWarning: Using or importing the ABCs from 'collections' instead of from 'collections.abc' is deprecated, and in 3.8 it will stop working\n",
      "  from collections import Iterable\n"
     ]
    }
   ],
   "source": [
    "import joblib\n",
    "import numpy as np\n",
    "import pandas as pd\n",
    "import matplotlib.pyplot as plt\n",
    "import seaborn as sns\n",
    "from tqdm.notebook import tqdm\n",
    "from collections import Counter\n",
    "import mlflow\n",
    "import sklearn\n",
    "from keras.callbacks import ModelCheckpoint\n",
    "from keras.models import Sequential\n",
    "from keras.layers import Dense, Activation, Flatten, Dropout\n",
    "from keras.optimizers import SGD\n",
    "from sklearn.model_selection import train_test_split\n",
    "from sklearn.ensemble import RandomForestRegressor\n",
    "from sklearn.metrics import mean_absolute_error \n",
    "from matplotlib import pyplot as plt\n",
    "import seaborn as sb\n",
    "import matplotlib.pyplot as plt\n",
    "import pandas as pd\n",
    "import numpy as np\n",
    "import warnings \n",
    "\n",
    "# local imports\n",
    "from prepare import *\n",
    "from evaluate import *"
   ]
  },
  {
   "cell_type": "code",
   "execution_count": 2,
   "metadata": {
    "ExecuteTime": {
     "end_time": "2020-01-22T00:29:00.054654Z",
     "start_time": "2020-01-22T00:28:58.960591Z"
    }
   },
   "outputs": [],
   "source": [
    "from lightgbm import LGBMRegressor\n",
    "from sklearn.ensemble import (\n",
    "    RandomForestRegressor,\n",
    "    GradientBoostingRegressor,\n",
    ")\n",
    "from catboost import CatBoostRegressor\n",
    "from sklearn.svm import LinearSVR\n",
    "from sklearn.ensemble import AdaBoostRegressor\n",
    "from sklearn.model_selection import train_test_split\n",
    "from sklearn.metrics import accuracy_score\n",
    "from sklearn.preprocessing import StandardScaler, MinMaxScaler\n",
    "from sklearn.linear_model import (\n",
    "    LogisticRegression,\n",
    "    SGDRegressor,\n",
    "    Ridge,\n",
    "    LinearRegression,\n",
    "    Lasso\n",
    ")\n",
    "import warnings\n",
    "\n",
    "warnings.filterwarnings(\n",
    "    \"ignore\"\n",
    ")  # Ridge classifier throws some warnings about ill-conditioned matrix\n",
    "\n",
    "# Try out balanced classes\n",
    "reduced_train = pd.read_csv(\"reduce_train.csv\")\n",
    "\n",
    "# reduced_train = pd.read_csv('reduce_train.csv')\n",
    "reduced_test = pd.read_csv(\"reduce_test.csv\")\n",
    "reduced_train.shape, reduced_test.shape\n",
    "\n",
    "categoricals = [\"session_title\"]\n",
    "cols_to_drop = [\"game_session\", \"installation_id\", \"accuracy_group\"]\n"
   ]
  },
  {
   "cell_type": "code",
   "execution_count": 54,
   "metadata": {
    "ExecuteTime": {
     "end_time": "2020-01-22T13:02:47.555558Z",
     "start_time": "2020-01-22T13:02:47.549560Z"
    }
   },
   "outputs": [],
   "source": [
    "# NN_model = Sequential()\n",
    "\n",
    "\n",
    "# # The Input Layer :\n",
    "# NN_model.add(Dense(128, kernel_initializer='normal', input_dim=887, activation='relu'))\n",
    "\n",
    "# # The Hidden Layers :\n",
    "# NN_model.add(Dense(256, kernel_initializer='normal',activation='relu'))\n",
    "# NN_model.add(Dropout(0.2))\n",
    "\n",
    "# NN_model.add(Dense(256, kernel_initializer='normal',activation='relu'))\n",
    "# NN_model.add(Dropout(0.2))\n",
    "\n",
    "# NN_model.add(Dense(256, kernel_initializer='normal',activation='relu'))\n",
    "# NN_model.add(Dropout(0.2))\n",
    "\n",
    "# # The Output Layer :\n",
    "# NN_model.add(Dense(1, kernel_initializer='normal',activation='linear'))\n",
    "\n",
    "# # Compile model\n",
    "# NN_model.compile(loss='mean_absolute_error', optimizer='adam', metrics=['mean_absolute_error'])\n"
   ]
  },
  {
   "cell_type": "markdown",
   "metadata": {},
   "source": [
    "## Setup Models"
   ]
  },
  {
   "cell_type": "code",
   "execution_count": 72,
   "metadata": {
    "ExecuteTime": {
     "end_time": "2020-01-22T15:50:59.918518Z",
     "start_time": "2020-01-22T15:50:59.913515Z"
    }
   },
   "outputs": [],
   "source": [
    "lgbm = LGBMRegressor()\n",
    "rfr = RandomForestRegressor()\n",
    "cbr = CatBoostRegressor(\n",
    "    loss_function=\"RMSE\",\n",
    "    task_type=\"CPU\",\n",
    "    learning_rate=0.05,\n",
    "    iterations=2000,\n",
    "    od_type=\"Iter\",\n",
    "    early_stopping_rounds=500,\n",
    "    random_seed=42,\n",
    "    silent=True\n",
    ")\n",
    "gbr = GradientBoostingRegressor()\n",
    "abr = AdaBoostRegressor()\n",
    "lvr = LinearSVR()\n",
    "lr = LinearRegression()\n",
    "sgd = SGDRegressor()\n",
    "rr = Ridge()\n",
    "\n",
    "models = [lgbm, rfr, cbr, gbr, abr, lr, rr]"
   ]
  },
  {
   "cell_type": "code",
   "execution_count": 73,
   "metadata": {
    "ExecuteTime": {
     "end_time": "2020-01-22T15:51:04.312295Z",
     "start_time": "2020-01-22T15:51:04.307296Z"
    }
   },
   "outputs": [],
   "source": [
    "def my_metric(y_true, y_pred):\n",
    "    y_pred = get_class_pred(y_pred, reduced_train)\n",
    "    qwk = cohen_kappa_score(y_true, y_pred, weights='quadratic')\n",
    "    return qwk"
   ]
  },
  {
   "cell_type": "markdown",
   "metadata": {},
   "source": [
    "### Read in data, set up stack"
   ]
  },
  {
   "cell_type": "code",
   "execution_count": 74,
   "metadata": {
    "ExecuteTime": {
     "end_time": "2020-01-22T15:51:07.059012Z",
     "start_time": "2020-01-22T15:51:06.648017Z"
    }
   },
   "outputs": [],
   "source": [
    "from vecstack import stacking\n",
    "\n",
    "mms = MinMaxScaler()\n",
    "\n",
    "#  Read in and scale data\n",
    "\n",
    "# If running for submission use these 3 lines:\n",
    "# X_train = reduced_train.drop(cols_to_drop, axis=1, errors=\"ignore\")\n",
    "# y_train = reduced_train.accuracy_group\n",
    "# X_test = reduced_test.drop(cols_to_drop, axis=1, errors=\"ignore\")\n",
    "\n",
    "# If testing locally, use these line:\n",
    "X = reduced_train.drop(cols_to_drop, axis=1, errors='ignore')\n",
    "y = reduced_train.accuracy_group\n",
    "X_train, X_test, y_train, y_test = train_test_split(\n",
    "    X, y, test_size=0.2, random_state=42\n",
    ")\n",
    "\n",
    "X_train, X_test = mms.fit_transform(X_train), mms.transform(X_test)"
   ]
  },
  {
   "cell_type": "code",
   "execution_count": 75,
   "metadata": {
    "ExecuteTime": {
     "end_time": "2020-01-22T16:14:09.277854Z",
     "start_time": "2020-01-22T15:51:07.594076Z"
    },
    "scrolled": true
   },
   "outputs": [
    {
     "name": "stdout",
     "output_type": "stream",
     "text": [
      "task:         [regression]\n",
      "metric:       [my_metric]\n",
      "mode:         [oof_pred_bag]\n",
      "n_models:     [7]\n",
      "\n",
      "model  0:     [LGBMRegressor]\n",
      "    fold  0:  [0.54823004]\n",
      "    fold  1:  [0.58125588]\n",
      "    fold  2:  [0.56638074]\n",
      "    fold  3:  [0.60012286]\n",
      "    ----\n",
      "    MEAN:     [0.57399738] + [0.01908662]\n",
      "    FULL:     [0.57401346]\n",
      "\n",
      "model  1:     [RandomForestRegressor]\n",
      "    fold  0:  [0.52941405]\n",
      "    fold  1:  [0.56150637]\n",
      "    fold  2:  [0.55333476]\n",
      "    fold  3:  [0.57706670]\n",
      "    ----\n",
      "    MEAN:     [0.55533047] + [0.01722098]\n",
      "    FULL:     [0.55504913]\n",
      "\n",
      "model  2:     [CatBoostRegressor]\n",
      "    fold  0:  [0.54517329]\n",
      "    fold  1:  [0.58548968]\n",
      "    fold  2:  [0.57375155]\n",
      "    fold  3:  [0.59923641]\n",
      "    ----\n",
      "    MEAN:     [0.57591273] + [0.01990789]\n",
      "    FULL:     [0.57553276]\n",
      "\n",
      "model  3:     [GradientBoostingRegressor]\n",
      "    fold  0:  [0.54157711]\n",
      "    fold  1:  [0.58072165]\n",
      "    fold  2:  [0.56781895]\n",
      "    fold  3:  [0.60189576]\n",
      "    ----\n",
      "    MEAN:     [0.57300337] + [0.02184508]\n",
      "    FULL:     [0.57262821]\n",
      "\n",
      "model  4:     [AdaBoostRegressor]\n",
      "    fold  0:  [0.48968960]\n",
      "    fold  1:  [0.51989853]\n",
      "    fold  2:  [0.50742543]\n",
      "    fold  3:  [0.55179268]\n",
      "    ----\n",
      "    MEAN:     [0.51720156] + [0.02267322]\n",
      "    FULL:     [0.51623525]\n",
      "\n",
      "model  5:     [LinearRegression]\n",
      "    fold  0:  [0.42290321]\n",
      "    fold  1:  [0.45713738]\n",
      "    fold  2:  [0.42220054]\n",
      "    fold  3:  [0.44073933]\n",
      "    ----\n",
      "    MEAN:     [0.43574511] + [0.01441302]\n",
      "    FULL:     [0.43678439]\n",
      "\n",
      "model  6:     [Ridge]\n",
      "    fold  0:  [0.40851849]\n",
      "    fold  1:  [0.46194541]\n",
      "    fold  2:  [0.43208821]\n",
      "    fold  3:  [0.44836279]\n",
      "    ----\n",
      "    MEAN:     [0.43772873] + [0.01990342]\n",
      "    FULL:     [0.43799090]\n",
      "\n"
     ]
    }
   ],
   "source": [
    "S_train, S_test = stacking(\n",
    "    models,\n",
    "    X_train,\n",
    "    y_train,\n",
    "    X_test,\n",
    "    regression=True,\n",
    "    mode=\"oof_pred_bag\",\n",
    "    needs_proba=False,\n",
    "    save_dir=None,\n",
    "    metric=my_metric,\n",
    "    n_folds=4,\n",
    "    shuffle=True,\n",
    "    random_state=42,\n",
    "    verbose=2,\n",
    ")"
   ]
  },
  {
   "cell_type": "code",
   "execution_count": 37,
   "metadata": {
    "ExecuteTime": {
     "end_time": "2020-01-22T02:20:59.902119Z",
     "start_time": "2020-01-22T02:20:53.199188Z"
    }
   },
   "outputs": [
    {
     "name": "stdout",
     "output_type": "stream",
     "text": [
      "Final prediction score: [0.57873227]\n"
     ]
    }
   ],
   "source": [
    "model = RandomForestRegressor()\n",
    "\n",
    "model = model.fit(S_train, y_train)\n",
    "y_pred = model.predict(S_test)\n",
    "#y_pred = get_class_pred(y_pred, reduced_test)\n",
    "print('Final prediction score: [%.8f]' % my_metric(y_test, y_pred))\n"
   ]
  },
  {
   "cell_type": "code",
   "execution_count": 38,
   "metadata": {
    "ExecuteTime": {
     "end_time": "2020-01-22T02:21:04.213877Z",
     "start_time": "2020-01-22T02:21:04.190876Z"
    }
   },
   "outputs": [
    {
     "name": "stdout",
     "output_type": "stream",
     "text": [
      "Final prediction score: [0.59527373]\n"
     ]
    }
   ],
   "source": [
    "model = LinearRegression()\n",
    "\n",
    "model = model.fit(S_train, y_train)\n",
    "y_pred = model.predict(S_test)\n",
    "#y_pred = get_class_pred(y_pred, reduced_test)\n",
    "print('Final prediction score: [%.8f]' % my_metric(y_test, y_pred))"
   ]
  },
  {
   "cell_type": "code",
   "execution_count": 39,
   "metadata": {
    "ExecuteTime": {
     "end_time": "2020-01-22T02:21:06.389289Z",
     "start_time": "2020-01-22T02:21:06.259289Z"
    }
   },
   "outputs": [
    {
     "name": "stdout",
     "output_type": "stream",
     "text": [
      "Final prediction score: [0.58448582]\n"
     ]
    }
   ],
   "source": [
    "model = LGBMRegressor()\n",
    "\n",
    "model = model.fit(S_train, y_train)\n",
    "y_pred = model.predict(S_test)\n",
    "#y_pred = get_class_pred(y_pred, reduced_test)\n",
    "print('Final prediction score: [%.8f]' % my_metric(y_test, y_pred))"
   ]
  },
  {
   "cell_type": "code",
   "execution_count": 40,
   "metadata": {
    "ExecuteTime": {
     "end_time": "2020-01-22T02:21:13.000964Z",
     "start_time": "2020-01-22T02:21:12.986929Z"
    }
   },
   "outputs": [
    {
     "name": "stdout",
     "output_type": "stream",
     "text": [
      "Final prediction score: [0.59509393]\n"
     ]
    }
   ],
   "source": [
    "model = Ridge()\n",
    "\n",
    "model = model.fit(S_train, y_train)\n",
    "y_pred = model.predict(S_test)\n",
    "#y_pred = get_class_pred(y_pred, reduced_test)\n",
    "print('Final prediction score: [%.8f]' % my_metric(y_test, y_pred))"
   ]
  },
  {
   "cell_type": "code",
   "execution_count": 41,
   "metadata": {
    "ExecuteTime": {
     "end_time": "2020-01-22T02:21:18.085560Z",
     "start_time": "2020-01-22T02:21:17.352521Z"
    }
   },
   "outputs": [
    {
     "name": "stdout",
     "output_type": "stream",
     "text": [
      "Final prediction score: [0.59419494]\n"
     ]
    }
   ],
   "source": [
    "model = LinearSVR()\n",
    "\n",
    "model = model.fit(S_train, y_train)\n",
    "y_pred = model.predict(S_test)\n",
    "#y_pred = get_class_pred(y_pred, reduced_test)\n",
    "print('Final prediction score: [%.8f]' % my_metric(y_test, y_pred))"
   ]
  },
  {
   "cell_type": "code",
   "execution_count": 42,
   "metadata": {
    "ExecuteTime": {
     "end_time": "2020-01-22T02:21:20.780554Z",
     "start_time": "2020-01-22T02:21:20.514532Z"
    }
   },
   "outputs": [
    {
     "name": "stdout",
     "output_type": "stream",
     "text": [
      "Final prediction score: [0.57953660]\n"
     ]
    }
   ],
   "source": [
    "model = AdaBoostRegressor()\n",
    "\n",
    "model = model.fit(S_train, y_train)\n",
    "y_pred = model.predict(S_test)\n",
    "#y_pred = get_class_pred(y_pred, reduced_test)\n",
    "print('Final prediction score: [%.8f]' % my_metric(y_test, y_pred))"
   ]
  },
  {
   "cell_type": "code",
   "execution_count": 44,
   "metadata": {
    "ExecuteTime": {
     "end_time": "2020-01-22T02:21:34.991393Z",
     "start_time": "2020-01-22T02:21:30.855870Z"
    },
    "scrolled": true
   },
   "outputs": [
    {
     "name": "stdout",
     "output_type": "stream",
     "text": [
      "Final prediction score: [0.59563333]\n"
     ]
    }
   ],
   "source": [
    "model = CatBoostRegressor(silent=True)\n",
    "\n",
    "model = model.fit(S_train, y_train)\n",
    "y_pred = model.predict(S_test)\n",
    "#y_pred = get_class_pred(y_pred, reduced_test)\n",
    "print('Final prediction score: [%.8f]' % my_metric(y_test, y_pred))"
   ]
  },
  {
   "cell_type": "code",
   "execution_count": 186,
   "metadata": {
    "ExecuteTime": {
     "end_time": "2020-01-19T15:21:04.807004Z",
     "start_time": "2020-01-19T15:21:04.776004Z"
    }
   },
   "outputs": [
    {
     "data": {
      "text/html": [
       "<div>\n",
       "<style scoped>\n",
       "    .dataframe tbody tr th:only-of-type {\n",
       "        vertical-align: middle;\n",
       "    }\n",
       "\n",
       "    .dataframe tbody tr th {\n",
       "        vertical-align: top;\n",
       "    }\n",
       "\n",
       "    .dataframe thead th {\n",
       "        text-align: right;\n",
       "    }\n",
       "</style>\n",
       "<table border=\"1\" class=\"dataframe\">\n",
       "  <thead>\n",
       "    <tr style=\"text-align: right;\">\n",
       "      <th></th>\n",
       "      <th>installation_id</th>\n",
       "      <th>accuracy_group</th>\n",
       "    </tr>\n",
       "  </thead>\n",
       "  <tbody>\n",
       "    <tr>\n",
       "      <th>0</th>\n",
       "      <td>00abaee7</td>\n",
       "      <td>3</td>\n",
       "    </tr>\n",
       "    <tr>\n",
       "      <th>1</th>\n",
       "      <td>01242218</td>\n",
       "      <td>3</td>\n",
       "    </tr>\n",
       "    <tr>\n",
       "      <th>2</th>\n",
       "      <td>017c5718</td>\n",
       "      <td>3</td>\n",
       "    </tr>\n",
       "    <tr>\n",
       "      <th>3</th>\n",
       "      <td>01a44906</td>\n",
       "      <td>3</td>\n",
       "    </tr>\n",
       "    <tr>\n",
       "      <th>4</th>\n",
       "      <td>01bc6cb6</td>\n",
       "      <td>3</td>\n",
       "    </tr>\n",
       "    <tr>\n",
       "      <th>...</th>\n",
       "      <td>...</td>\n",
       "      <td>...</td>\n",
       "    </tr>\n",
       "    <tr>\n",
       "      <th>995</th>\n",
       "      <td>fee254cf</td>\n",
       "      <td>3</td>\n",
       "    </tr>\n",
       "    <tr>\n",
       "      <th>996</th>\n",
       "      <td>ff57e602</td>\n",
       "      <td>0</td>\n",
       "    </tr>\n",
       "    <tr>\n",
       "      <th>997</th>\n",
       "      <td>ffc73fb2</td>\n",
       "      <td>3</td>\n",
       "    </tr>\n",
       "    <tr>\n",
       "      <th>998</th>\n",
       "      <td>ffe00ca8</td>\n",
       "      <td>1</td>\n",
       "    </tr>\n",
       "    <tr>\n",
       "      <th>999</th>\n",
       "      <td>ffe774cc</td>\n",
       "      <td>1</td>\n",
       "    </tr>\n",
       "  </tbody>\n",
       "</table>\n",
       "<p>1000 rows × 2 columns</p>\n",
       "</div>"
      ],
      "text/plain": [
       "    installation_id  accuracy_group\n",
       "0          00abaee7               3\n",
       "1          01242218               3\n",
       "2          017c5718               3\n",
       "3          01a44906               3\n",
       "4          01bc6cb6               3\n",
       "..              ...             ...\n",
       "995        fee254cf               3\n",
       "996        ff57e602               0\n",
       "997        ffc73fb2               3\n",
       "998        ffe00ca8               1\n",
       "999        ffe774cc               1\n",
       "\n",
       "[1000 rows x 2 columns]"
      ]
     },
     "execution_count": 186,
     "metadata": {},
     "output_type": "execute_result"
    }
   ],
   "source": [
    "model = Ridge()\n",
    "\n",
    "model = model.fit(S_train, y_train)\n",
    "y_pred = model.predict(S_test)\n",
    "y_pred = get_class_pred(y_pred, reduced_test)\n",
    "\n",
    "print('Final prediction score: [%.8f]' % my_metric(y_test, y_pred))\n",
    "\n",
    "def make_submission(preds, train_df, filename):\n",
    "    preds = get_class_pred(preds, train_df)\n",
    "    # assert len(preds)==1000\n",
    "    sample = pd.read_csv(\"data/sample_submission.csv\")\n",
    "    submission = pd.DataFrame()\n",
    "    submission[\"installation_id\"] = sample[\"installation_id\"]\n",
    "    submission[\"accuracy_group\"] = preds\n",
    "    submission.to_csv(filename, index=False)\n",
    "    return submission\n",
    "\n",
    "#make_submission(y_pred, reduced_train, 'vs_preds5.csv')"
   ]
  },
  {
   "cell_type": "code",
   "execution_count": 54,
   "metadata": {
    "ExecuteTime": {
     "end_time": "2020-01-17T22:00:18.395843Z",
     "start_time": "2020-01-17T22:00:18.371821Z"
    },
    "scrolled": true
   },
   "outputs": [
    {
     "data": {
      "text/html": [
       "<div>\n",
       "<style scoped>\n",
       "    .dataframe tbody tr th:only-of-type {\n",
       "        vertical-align: middle;\n",
       "    }\n",
       "\n",
       "    .dataframe tbody tr th {\n",
       "        vertical-align: top;\n",
       "    }\n",
       "\n",
       "    .dataframe thead th {\n",
       "        text-align: right;\n",
       "    }\n",
       "</style>\n",
       "<table border=\"1\" class=\"dataframe\">\n",
       "  <thead>\n",
       "    <tr style=\"text-align: right;\">\n",
       "      <th></th>\n",
       "      <th>installation_id</th>\n",
       "      <th>accuracy_group</th>\n",
       "    </tr>\n",
       "  </thead>\n",
       "  <tbody>\n",
       "    <tr>\n",
       "      <th>0</th>\n",
       "      <td>00abaee7</td>\n",
       "      <td>1</td>\n",
       "    </tr>\n",
       "    <tr>\n",
       "      <th>1</th>\n",
       "      <td>01242218</td>\n",
       "      <td>3</td>\n",
       "    </tr>\n",
       "    <tr>\n",
       "      <th>2</th>\n",
       "      <td>017c5718</td>\n",
       "      <td>0</td>\n",
       "    </tr>\n",
       "    <tr>\n",
       "      <th>3</th>\n",
       "      <td>01a44906</td>\n",
       "      <td>0</td>\n",
       "    </tr>\n",
       "    <tr>\n",
       "      <th>4</th>\n",
       "      <td>01bc6cb6</td>\n",
       "      <td>3</td>\n",
       "    </tr>\n",
       "    <tr>\n",
       "      <th>...</th>\n",
       "      <td>...</td>\n",
       "      <td>...</td>\n",
       "    </tr>\n",
       "    <tr>\n",
       "      <th>995</th>\n",
       "      <td>fee254cf</td>\n",
       "      <td>3</td>\n",
       "    </tr>\n",
       "    <tr>\n",
       "      <th>996</th>\n",
       "      <td>ff57e602</td>\n",
       "      <td>1</td>\n",
       "    </tr>\n",
       "    <tr>\n",
       "      <th>997</th>\n",
       "      <td>ffc73fb2</td>\n",
       "      <td>3</td>\n",
       "    </tr>\n",
       "    <tr>\n",
       "      <th>998</th>\n",
       "      <td>ffe00ca8</td>\n",
       "      <td>3</td>\n",
       "    </tr>\n",
       "    <tr>\n",
       "      <th>999</th>\n",
       "      <td>ffe774cc</td>\n",
       "      <td>3</td>\n",
       "    </tr>\n",
       "  </tbody>\n",
       "</table>\n",
       "<p>1000 rows × 2 columns</p>\n",
       "</div>"
      ],
      "text/plain": [
       "    installation_id  accuracy_group\n",
       "0          00abaee7               1\n",
       "1          01242218               3\n",
       "2          017c5718               0\n",
       "3          01a44906               0\n",
       "4          01bc6cb6               3\n",
       "..              ...             ...\n",
       "995        fee254cf               3\n",
       "996        ff57e602               1\n",
       "997        ffc73fb2               3\n",
       "998        ffe00ca8               3\n",
       "999        ffe774cc               3\n",
       "\n",
       "[1000 rows x 2 columns]"
      ]
     },
     "execution_count": 54,
     "metadata": {},
     "output_type": "execute_result"
    }
   ],
   "source": [
    "make_submission(final_preds, reduced_train)"
   ]
  },
  {
   "cell_type": "code",
   "execution_count": 57,
   "metadata": {
    "ExecuteTime": {
     "end_time": "2020-01-22T13:04:15.439167Z",
     "start_time": "2020-01-22T13:04:15.433169Z"
    }
   },
   "outputs": [],
   "source": [
    "from sklearn.model_selection import (cross_val_score, train_test_split, \n",
    "                                     GridSearchCV, RandomizedSearchCV)\n",
    "from scipy.stats import randint as sp_randint\n",
    "from scipy.stats import uniform as sp_uniform"
   ]
  },
  {
   "cell_type": "markdown",
   "metadata": {
    "ExecuteTime": {
     "end_time": "2020-01-22T02:23:09.760792Z",
     "start_time": "2020-01-22T02:23:09.751796Z"
    }
   },
   "source": [
    "# Tune all"
   ]
  },
  {
   "cell_type": "markdown",
   "metadata": {},
   "source": [
    "#### LGBM"
   ]
  },
  {
   "cell_type": "code",
   "execution_count": 62,
   "metadata": {
    "ExecuteTime": {
     "end_time": "2020-01-22T14:37:56.994107Z",
     "start_time": "2020-01-22T13:36:35.641958Z"
    }
   },
   "outputs": [
    {
     "name": "stdout",
     "output_type": "stream",
     "text": [
      "Fitting 4 folds for each of 60 candidates, totalling 240 fits\n"
     ]
    },
    {
     "name": "stderr",
     "output_type": "stream",
     "text": [
      "[Parallel(n_jobs=-1)]: Using backend LokyBackend with 12 concurrent workers.\n",
      "[Parallel(n_jobs=-1)]: Done  26 tasks      | elapsed: 11.0min\n",
      "[Parallel(n_jobs=-1)]: Done 176 tasks      | elapsed: 44.4min\n",
      "[Parallel(n_jobs=-1)]: Done 240 out of 240 | elapsed: 61.2min finished\n"
     ]
    }
   ],
   "source": [
    "# LGBM\n",
    "est = LGBMRegressor(boosting='gbdt', n_jobs=-1, random_state=2018)\n",
    "\n",
    "hyper_space = {'n_estimators': sp_randint(1000, 2500),\n",
    "               'max_depth':  [4, 5, 8, -1],\n",
    "               'num_leaves': [15, 31, 63, 127],\n",
    "               'subsample': sp_uniform(0.6, 0.4),\n",
    "               'colsample_bytree': sp_uniform(0.6, 0.4)}\n",
    "\n",
    "rs = RandomizedSearchCV(est, hyper_space, n_iter=60, cv=4, \n",
    "                         verbose=1, random_state=42, n_jobs=-1)\n",
    "\n",
    "rs_results = rs.fit(X_train, y_train)"
   ]
  },
  {
   "cell_type": "code",
   "execution_count": 63,
   "metadata": {
    "ExecuteTime": {
     "end_time": "2020-01-22T14:55:58.301532Z",
     "start_time": "2020-01-22T14:55:58.083539Z"
    }
   },
   "outputs": [
    {
     "name": "stdout",
     "output_type": "stream",
     "text": [
      "BEST PARAMETERS: {'colsample_bytree': 0.718509402281633, 'max_depth': 4, 'n_estimators': 1064, 'num_leaves': 15, 'subsample': 0.9947547746402069}\n",
      "BEST CV SCORE: 0.33196345612555345\n",
      "QWK SCORE ON TEST DATA: 0.5769342903813786\n"
     ]
    }
   ],
   "source": [
    "print(\"BEST PARAMETERS: \" + str(rs_results.best_params_))\n",
    "print(\"BEST CV SCORE: \" + str(rs_results.best_score_))\n",
    "\n",
    "# Predict (after fitting RandomizedSearchCV is an estimator with best parameters)\n",
    "y_pred = rs.predict(X_test)\n",
    "\n",
    "# Score\n",
    "score = my_metric(y_test, y_pred)\n",
    "print(\"QWK SCORE ON TEST DATA: {}\".format(score))\n"
   ]
  },
  {
   "cell_type": "markdown",
   "metadata": {},
   "source": [
    "BEST PARAMETERS: {'colsample_bytree': 0.718509402281633, 'max_depth': 4, 'n_estimators': 1064, 'num_leaves': 15, 'subsample': 0.9947547746402069}\n",
    "BEST CV SCORE: 0.33196345612555345\n",
    "QWK SCORE ON TEST DATA: 0.5769342903813786"
   ]
  },
  {
   "cell_type": "markdown",
   "metadata": {},
   "source": [
    "### Catboost"
   ]
  },
  {
   "cell_type": "code",
   "execution_count": null,
   "metadata": {},
   "outputs": [],
   "source": [
    "# LGBM\n",
    "est = CatBoostRegressor(boosting='gbdt', n_jobs=-1, random_state=2018)\n",
    "\n",
    "hyper_space = {'depth':[3,1,2,6,4,5,7,8,9,10],\n",
    "          'iterations':[250,100,500,1000],\n",
    "          'learning_rate':[0.03,0.001,0.01,0.1,0.2,0.3], \n",
    "          'l2_leaf_reg':[3,1,5,10,100],\n",
    "          'border_count':[32,5,10,20,50,100,200],\n",
    "          'ctr_border_count':[50,5,10,20,100,200],\n",
    "          'thread_count':4}\n",
    "\n",
    "rs = RandomizedSearchCV(est, hyper_space, n_iter=60, cv=4, \n",
    "                         verbose=1, random_state=42, n_jobs=-1)\n",
    "\n",
    "rs_results = rs.fit(X_train, y_train)\n",
    "params = {'depth':[3,1,2,6,4,5,7,8,9,10],\n",
    "          'iterations':[250,100,500,1000],\n",
    "          'learning_rate':[0.03,0.001,0.01,0.1,0.2,0.3], \n",
    "          'l2_leaf_reg':[3,1,5,10,100],\n",
    "          'border_count':[32,5,10,20,50,100,200],\n",
    "          'ctr_border_count':[50,5,10,20,100,200],\n",
    "          'thread_count':4}"
   ]
  }
 ],
 "metadata": {
  "hide_input": false,
  "kernelspec": {
   "display_name": "DataScienceBowl",
   "language": "python",
   "name": "datasciencebowl"
  },
  "language_info": {
   "codemirror_mode": {
    "name": "ipython",
    "version": 3
   },
   "file_extension": ".py",
   "mimetype": "text/x-python",
   "name": "python",
   "nbconvert_exporter": "python",
   "pygments_lexer": "ipython3",
   "version": "3.7.0"
  }
 },
 "nbformat": 4,
 "nbformat_minor": 2
}
