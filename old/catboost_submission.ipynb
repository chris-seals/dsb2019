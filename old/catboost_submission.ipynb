{
 "cells": [
  {
   "cell_type": "markdown",
   "metadata": {},
   "source": [
    "## Continue ensembles from v1 on full dataset format commonly used on Kaggle"
   ]
  },
  {
   "cell_type": "code",
   "execution_count": 1,
   "metadata": {
    "ExecuteTime": {
     "end_time": "2020-01-07T19:15:18.533668Z",
     "start_time": "2020-01-07T19:15:16.243611Z"
    }
   },
   "outputs": [],
   "source": [
    "import joblib\n",
    "import numpy as np\n",
    "import pandas as pd\n",
    "import matplotlib.pyplot as plt\n",
    "import seaborn as sns\n",
    "from tqdm.notebook import tqdm\n",
    "from collections import Counter\n",
    "import mlflow\n",
    "\n",
    "# local imports\n",
    "from prepare import *\n",
    "from evaluate import *"
   ]
  },
  {
   "cell_type": "code",
   "execution_count": 2,
   "metadata": {
    "ExecuteTime": {
     "end_time": "2020-01-07T19:15:18.563642Z",
     "start_time": "2020-01-07T19:15:18.535638Z"
    }
   },
   "outputs": [
    {
     "name": "stdout",
     "output_type": "stream",
     "text": [
      "INFO: 'baseline' does not exist. Creating a new experiment\n"
     ]
    }
   ],
   "source": [
    "mlflow.set_experiment('baseline')"
   ]
  },
  {
   "cell_type": "markdown",
   "metadata": {},
   "source": [
    "### Read in initial datasets if needed"
   ]
  },
  {
   "cell_type": "code",
   "execution_count": 3,
   "metadata": {
    "ExecuteTime": {
     "end_time": "2020-01-07T19:15:18.568641Z",
     "start_time": "2020-01-07T19:15:18.565642Z"
    }
   },
   "outputs": [],
   "source": [
    "#raw_train, raw_train_labels, raw_test, specs, sample = read_raw_csvs()\n",
    "#raw_train_labels = pd.read_csv('data/train_labels.csv')"
   ]
  },
  {
   "cell_type": "markdown",
   "metadata": {},
   "source": [
    "### Load large train/test features from Josh's work"
   ]
  },
  {
   "cell_type": "code",
   "execution_count": 4,
   "metadata": {
    "ExecuteTime": {
     "end_time": "2020-01-07T19:15:19.690638Z",
     "start_time": "2020-01-07T19:15:18.570662Z"
    },
    "scrolled": true
   },
   "outputs": [
    {
     "data": {
      "text/plain": [
       "((17690, 890), (1000, 891))"
      ]
     },
     "execution_count": 4,
     "metadata": {},
     "output_type": "execute_result"
    }
   ],
   "source": [
    "reduced_train = pd.read_csv('reduce_train.csv')\n",
    "reduced_test = pd.read_csv('reduce_test.csv')\n",
    "reduced_train.shape, reduced_test.shape"
   ]
  },
  {
   "cell_type": "markdown",
   "metadata": {},
   "source": [
    "### Start throwing model mud at the wall"
   ]
  },
  {
   "cell_type": "code",
   "execution_count": 6,
   "metadata": {
    "ExecuteTime": {
     "end_time": "2020-01-07T19:15:32.487896Z",
     "start_time": "2020-01-07T19:15:32.231930Z"
    }
   },
   "outputs": [
    {
     "name": "stderr",
     "output_type": "stream",
     "text": [
      "C:\\Users\\604572\\Continuum\\anaconda3\\envs\\dsb2019\\lib\\imp.py:343: DeprecationWarning: Using or importing the ABCs from 'collections' instead of from 'collections.abc' is deprecated, and in 3.8 it will stop working\n",
      "  return _load(spec)\n"
     ]
    }
   ],
   "source": [
    "from catboost import CatBoostClassifier\n",
    "from sklearn.ensemble import RandomForestClassifier, AdaBoostClassifier, \\\n",
    "                                ExtraTreesClassifier, BaggingClassifier, \\\n",
    "                                GradientBoostingClassifier, VotingClassifier, StackingClassifier\n",
    "from sklearn.model_selection import train_test_split\n",
    "from sklearn.metrics import accuracy_score\n",
    "from sklearn.preprocessing import StandardScaler\n",
    "from sklearn.linear_model import LogisticRegression, SGDClassifier, RidgeClassifier\n",
    "from sklearn.neighbors import KNeighborsClassifier\n",
    "from sklearn.svm import SVC\n",
    "from sklearn.naive_bayes import GaussianNB\n",
    "import warnings\n",
    "warnings.filterwarnings('ignore')  #Ridge classifier throws some warnings about ill-conditioned matrix"
   ]
  },
  {
   "cell_type": "markdown",
   "metadata": {},
   "source": [
    "### Baseline accuracy of 50% (or 25% if balanced)"
   ]
  },
  {
   "cell_type": "code",
   "execution_count": 7,
   "metadata": {
    "ExecuteTime": {
     "end_time": "2020-01-07T19:15:35.842015Z",
     "start_time": "2020-01-07T19:15:35.816015Z"
    }
   },
   "outputs": [
    {
     "data": {
      "text/plain": [
       "3    0.500000\n",
       "0    0.239062\n",
       "1    0.136292\n",
       "2    0.124647\n",
       "Name: accuracy_group, dtype: float64"
      ]
     },
     "execution_count": 7,
     "metadata": {},
     "output_type": "execute_result"
    }
   ],
   "source": [
    "reduced_train.accuracy_group.value_counts(normalize=True)"
   ]
  },
  {
   "cell_type": "markdown",
   "metadata": {},
   "source": [
    "# Initialize Models and start testing accuracy"
   ]
  },
  {
   "cell_type": "code",
   "execution_count": 8,
   "metadata": {
    "ExecuteTime": {
     "end_time": "2020-01-07T19:15:43.275594Z",
     "start_time": "2020-01-07T19:15:43.268624Z"
    }
   },
   "outputs": [],
   "source": [
    "rf = RandomForestClassifier()\n",
    "rc = RidgeClassifier()\n",
    "ac = AdaBoostClassifier()\n",
    "et = ExtraTreesClassifier()\n",
    "bc = BaggingClassifier()\n",
    "gbc = GradientBoostingClassifier()\n",
    "\n",
    "clf = CatBoostClassifier(\n",
    "    loss_function='MultiClass',\n",
    "    task_type=\"CPU\",\n",
    "    learning_rate=0.01,\n",
    "    iterations=2000,\n",
    "    od_type=\"Iter\",\n",
    "    early_stopping_rounds=500,\n",
    "    random_seed=42\n",
    "    )\n",
    "\n",
    "# tried with minimal results\n",
    "#nb = GaussianNB()\n",
    "#lr = LogisticRegression()               ## if they are commented out, they weren't performing well (or operator error...)\n",
    "#sgd = SGDClassifier()"
   ]
  },
  {
   "cell_type": "code",
   "execution_count": 9,
   "metadata": {
    "ExecuteTime": {
     "end_time": "2020-01-07T19:15:45.939591Z",
     "start_time": "2020-01-07T19:15:45.936629Z"
    }
   },
   "outputs": [],
   "source": [
    "knn = KNeighborsClassifier()\n",
    "svc = SVC(probability=True, verbose=1)"
   ]
  },
  {
   "cell_type": "markdown",
   "metadata": {},
   "source": [
    "## Evaluate model performance"
   ]
  },
  {
   "cell_type": "code",
   "execution_count": null,
   "metadata": {
    "ExecuteTime": {
     "end_time": "2020-01-07T19:15:20.082795Z",
     "start_time": "2020-01-07T19:15:16.260Z"
    },
    "scrolled": false
   },
   "outputs": [],
   "source": [
    "# Catboost - accuracy 56%a\n",
    "catbooster = quick_eval(reduced_train, clf)#, cv=True)"
   ]
  },
  {
   "cell_type": "markdown",
   "metadata": {},
   "source": [
    "## Train/test split and attempt purely catboost"
   ]
  },
  {
   "cell_type": "code",
   "execution_count": null,
   "metadata": {
    "ExecuteTime": {
     "end_time": "2020-01-07T19:15:20.083793Z",
     "start_time": "2020-01-07T19:15:16.262Z"
    }
   },
   "outputs": [],
   "source": [
    "X_train, X_test, y_train, y_test = train_test_split(reduced_train.drop('accuracy_group', axis=1)._get_numeric_data(), \n",
    "                                                   reduced_train.accuracy_group,\n",
    "                                                   test_size=.2,\n",
    "                                                   random_state=42)"
   ]
  },
  {
   "cell_type": "code",
   "execution_count": null,
   "metadata": {
    "ExecuteTime": {
     "end_time": "2020-01-07T19:15:20.084793Z",
     "start_time": "2020-01-07T19:15:16.264Z"
    }
   },
   "outputs": [],
   "source": [
    "from sklearn.metrics import cohen_kappa_score\n",
    "y_pred = catbooster.predict(X_test)\n",
    "\n",
    "#confirimg these two functions do the same thing\n",
    "print(qwk3(y_pred, y_test))  #0.5194\n",
    "print(cohen_kappa_score(y_pred, y_test, weights='quadratic'))  #0.5194"
   ]
  },
  {
   "cell_type": "code",
   "execution_count": null,
   "metadata": {
    "ExecuteTime": {
     "end_time": "2020-01-07T19:15:20.085795Z",
     "start_time": "2020-01-07T19:15:16.266Z"
    }
   },
   "outputs": [],
   "source": [
    "reduced_train.shape, reduced_test.shape"
   ]
  },
  {
   "cell_type": "code",
   "execution_count": null,
   "metadata": {
    "ExecuteTime": {
     "end_time": "2020-01-07T19:15:20.086794Z",
     "start_time": "2020-01-07T19:15:16.267Z"
    },
    "scrolled": true
   },
   "outputs": [],
   "source": [
    "sub_pred = catbooster.predict(reduced_test._get_numeric_data())\n",
    "len(sub_pred)"
   ]
  },
  {
   "cell_type": "markdown",
   "metadata": {},
   "source": [
    "## Create submission for testing - scored .443"
   ]
  },
  {
   "cell_type": "code",
   "execution_count": null,
   "metadata": {
    "ExecuteTime": {
     "end_time": "2020-01-07T19:15:20.087804Z",
     "start_time": "2020-01-07T19:15:16.270Z"
    }
   },
   "outputs": [],
   "source": [
    "sample_sub = pd.read_csv('data/sample_submission.csv')\n",
    "\n",
    "# To create a submission:\n",
    "submission = pd.DataFrame()\n",
    "submission['installation_id'] = sample_sub.installation_id\n",
    "submission['accuracy_group'] = sub_pred\n",
    "submission.head()"
   ]
  },
  {
   "cell_type": "code",
   "execution_count": null,
   "metadata": {
    "ExecuteTime": {
     "end_time": "2020-01-07T19:15:20.089793Z",
     "start_time": "2020-01-07T19:15:16.272Z"
    }
   },
   "outputs": [],
   "source": [
    "submission.accuracy_group.value_counts(normalize=True)"
   ]
  },
  {
   "cell_type": "code",
   "execution_count": null,
   "metadata": {
    "ExecuteTime": {
     "end_time": "2020-01-07T19:15:20.090793Z",
     "start_time": "2020-01-07T19:15:16.274Z"
    }
   },
   "outputs": [],
   "source": [
    "submission.to_csv('preds.csv', index=False)"
   ]
  }
 ],
 "metadata": {
  "gist": {
   "data": {
    "description": "Brad_DSB/dsb/seals-model-exploration-v1-Copy1.ipynb",
    "public": false
   },
   "id": ""
  },
  "hide_input": false,
  "kernelspec": {
   "display_name": "DataScienceBowl",
   "language": "python",
   "name": "datasciencebowl"
  },
  "language_info": {
   "codemirror_mode": {
    "name": "ipython",
    "version": 3
   },
   "file_extension": ".py",
   "mimetype": "text/x-python",
   "name": "python",
   "nbconvert_exporter": "python",
   "pygments_lexer": "ipython3",
   "version": "3.7.0"
  }
 },
 "nbformat": 4,
 "nbformat_minor": 2
}
