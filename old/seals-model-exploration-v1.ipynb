{
 "cells": [
  {
   "cell_type": "code",
   "execution_count": 29,
   "metadata": {
    "ExecuteTime": {
     "end_time": "2020-01-04T17:13:14.803880Z",
     "start_time": "2020-01-04T17:13:14.795860Z"
    }
   },
   "outputs": [],
   "source": [
    "import joblib\n",
    "import numpy as np\n",
    "import pandas as pd\n",
    "import matplotlib.pyplot as plt\n",
    "import seaborn as sns\n",
    "from tqdm.notebook import tqdm\n",
    "from collections import Counter\n",
    "\n",
    "# local imports\n",
    "from prepare import *\n",
    "from evaluate import *"
   ]
  },
  {
   "cell_type": "markdown",
   "metadata": {},
   "source": [
    "### Read in initial datasets if needed"
   ]
  },
  {
   "cell_type": "code",
   "execution_count": 30,
   "metadata": {
    "ExecuteTime": {
     "end_time": "2020-01-04T17:13:15.089856Z",
     "start_time": "2020-01-04T17:13:14.809879Z"
    }
   },
   "outputs": [],
   "source": [
    "#raw_train, raw_train_labels, raw_test, specs, sample = read_raw_csvs()\n",
    "raw_train_labels = pd.read_csv('data/train_labels.csv')"
   ]
  },
  {
   "cell_type": "markdown",
   "metadata": {},
   "source": [
    "### Load compiled train/test datasets"
   ]
  },
  {
   "cell_type": "code",
   "execution_count": 31,
   "metadata": {
    "ExecuteTime": {
     "end_time": "2020-01-04T17:13:28.978867Z",
     "start_time": "2020-01-04T17:13:15.093860Z"
    }
   },
   "outputs": [],
   "source": [
    "train, test = load_and_prep(raw_train_labels)"
   ]
  },
  {
   "cell_type": "code",
   "execution_count": 32,
   "metadata": {
    "ExecuteTime": {
     "end_time": "2020-01-04T17:13:28.989734Z",
     "start_time": "2020-01-04T17:13:28.982688Z"
    }
   },
   "outputs": [],
   "source": [
    "#train = balance_classes(train)  ## try with balanced classes     --- results much worse"
   ]
  },
  {
   "cell_type": "markdown",
   "metadata": {},
   "source": [
    "### Start throwing model mud at the wall"
   ]
  },
  {
   "cell_type": "code",
   "execution_count": 33,
   "metadata": {
    "ExecuteTime": {
     "end_time": "2020-01-04T17:13:29.000691Z",
     "start_time": "2020-01-04T17:13:28.992686Z"
    }
   },
   "outputs": [],
   "source": [
    "from catboost import CatBoostClassifier\n",
    "from sklearn.ensemble import RandomForestClassifier, AdaBoostClassifier, \\\n",
    "                                ExtraTreesClassifier, BaggingClassifier, \\\n",
    "                                GradientBoostingClassifier, VotingClassifier, StackingClassifier\n",
    "from sklearn.model_selection import train_test_split\n",
    "from sklearn.metrics import accuracy_score\n",
    "from sklearn.preprocessing import StandardScaler\n",
    "from sklearn.linear_model import LogisticRegression, SGDClassifier, RidgeClassifier\n",
    "from sklearn.neighbors import KNeighborsClassifier\n",
    "from sklearn.svm import SVC\n",
    "from sklearn.naive_bayes import GaussianNB\n",
    "import warnings\n",
    "warnings.filterwarnings('ignore')  #Ridge classifier throws some warnings about ill-conditioned matrix"
   ]
  },
  {
   "cell_type": "markdown",
   "metadata": {},
   "source": [
    "### Baseline accuracy of 50% (or 25% if balanced)"
   ]
  },
  {
   "cell_type": "code",
   "execution_count": 34,
   "metadata": {
    "ExecuteTime": {
     "end_time": "2020-01-04T17:13:29.014715Z",
     "start_time": "2020-01-04T17:13:29.003685Z"
    }
   },
   "outputs": [
    {
     "data": {
      "text/plain": [
       "3    0.500000\n",
       "0    0.239062\n",
       "1    0.136292\n",
       "2    0.124647\n",
       "Name: accuracy_group, dtype: float64"
      ]
     },
     "execution_count": 34,
     "metadata": {},
     "output_type": "execute_result"
    }
   ],
   "source": [
    "train.accuracy_group.value_counts(normalize=True)"
   ]
  },
  {
   "cell_type": "markdown",
   "metadata": {},
   "source": [
    "# Initialize Models and start testing accuracy"
   ]
  },
  {
   "cell_type": "markdown",
   "metadata": {},
   "source": [
    "#### KNN and SVC will require scaling, others shouldn't"
   ]
  },
  {
   "cell_type": "code",
   "execution_count": 35,
   "metadata": {
    "ExecuteTime": {
     "end_time": "2020-01-04T17:13:29.028715Z",
     "start_time": "2020-01-04T17:13:29.017684Z"
    }
   },
   "outputs": [],
   "source": [
    "rf = RandomForestClassifier()\n",
    "#lr = LogisticRegression()               ## if they are commented out, they weren't performing well (or operator error...)\n",
    "#sgd = SGDClassifier()\n",
    "rc = RidgeClassifier()\n",
    "#nb = GaussianNB()\n",
    "ac = AdaBoostClassifier()\n",
    "et = ExtraTreesClassifier()\n",
    "bc = BaggingClassifier()\n",
    "gbc = GradientBoostingClassifier()\n",
    "clf = CatBoostClassifier(\n",
    "    loss_function='MultiClass',\n",
    "    task_type=\"CPU\",\n",
    "    learning_rate=0.01,\n",
    "    iterations=2000,\n",
    "    od_type=\"Iter\",\n",
    "    early_stopping_rounds=500,\n",
    "    random_seed=42\n",
    "    )"
   ]
  },
  {
   "cell_type": "code",
   "execution_count": 36,
   "metadata": {
    "ExecuteTime": {
     "end_time": "2020-01-04T17:13:29.039757Z",
     "start_time": "2020-01-04T17:13:29.032690Z"
    }
   },
   "outputs": [],
   "source": [
    "knn = KNeighborsClassifier()\n",
    "svc = SVC(probability=True, verbose=1)"
   ]
  },
  {
   "cell_type": "markdown",
   "metadata": {},
   "source": [
    "## Evaluate model performance"
   ]
  },
  {
   "cell_type": "code",
   "execution_count": 37,
   "metadata": {
    "ExecuteTime": {
     "end_time": "2020-01-04T17:24:50.425565Z",
     "start_time": "2020-01-04T17:24:50.420929Z"
    }
   },
   "outputs": [],
   "source": [
    "# Catboost - accuracy 56%a\n",
    "#quick_eval(train, clf, cv=True)"
   ]
  },
  {
   "cell_type": "code",
   "execution_count": 38,
   "metadata": {
    "ExecuteTime": {
     "end_time": "2020-01-04T17:29:24.214430Z",
     "start_time": "2020-01-04T17:24:50.550495Z"
    }
   },
   "outputs": [
    {
     "name": "stdout",
     "output_type": "stream",
     "text": [
      "The CV score of RandomForestClassifier is 0.539344262295082\n",
      "The CV score of RidgeClassifier is 0.5076879592990391\n",
      "The CV score of AdaBoostClassifier is 0.5541548897682307\n",
      "The CV score of ExtraTreesClassifier is 0.511927642736009\n",
      "The CV score of BaggingClassifier is 0.48654607122668175\n",
      "The CV score of GradientBoostingClassifier is 0.5579423403052572\n"
     ]
    },
    {
     "data": {
      "text/plain": [
       "('GradientBoostingClassifier', 0.5579423403052572)"
      ]
     },
     "execution_count": 38,
     "metadata": {},
     "output_type": "execute_result"
    }
   ],
   "source": [
    "quick_eval(train, rf, cv=True)\n",
    "#quick_eval(train, lr, cv=True)\n",
    "#quick_eval(train, sgd, cv=True)\n",
    "quick_eval(train, rc, cv=True)\n",
    "#quick_eval(train, nb, cv=True)\n",
    "quick_eval(train, ac, cv=True)\n",
    "quick_eval(train, et, cv=True)\n",
    "quick_eval(train, bc, cv=True)\n",
    "quick_eval(train, gbc, cv=True)\n",
    "#quick_eval(train, clf, cv=True)\n",
    "\n",
    "\n",
    "#quick_eval(train, knn, scale=True, cv=True)\n",
    "#quick_eval(train, svc, scale=True, cv=True)"
   ]
  },
  {
   "cell_type": "markdown",
   "metadata": {},
   "source": [
    "## more models, to include sklearn neural net"
   ]
  },
  {
   "cell_type": "code",
   "execution_count": 22,
   "metadata": {
    "ExecuteTime": {
     "end_time": "2020-01-04T05:26:08.475450Z",
     "start_time": "2020-01-04T05:26:08.455443Z"
    }
   },
   "outputs": [],
   "source": [
    "from sklearn.neural_network import MLPClassifier\n",
    "from sklearn.gaussian_process import GaussianProcessClassifier\n",
    "from sklearn.gaussian_process.kernels import RBF\n",
    "from sklearn.tree import DecisionTreeClassifier"
   ]
  },
  {
   "cell_type": "code",
   "execution_count": 23,
   "metadata": {
    "ExecuteTime": {
     "end_time": "2020-01-04T05:26:08.481472Z",
     "start_time": "2020-01-04T05:26:08.477481Z"
    }
   },
   "outputs": [],
   "source": [
    "mlp = MLPClassifier()\n",
    "#gpc = GaussianProcessClassifier(verbose=1) #takes a long time\n",
    "#rbf = RBF()\n",
    "dt = DecisionTreeClassifier()"
   ]
  },
  {
   "cell_type": "code",
   "execution_count": 24,
   "metadata": {
    "ExecuteTime": {
     "end_time": "2020-01-04T05:27:13.550129Z",
     "start_time": "2020-01-04T05:26:08.483457Z"
    }
   },
   "outputs": [
    {
     "name": "stdout",
     "output_type": "stream",
     "text": [
      "The CV score of MLPClassifier is 0.25\n",
      "The CV score of DecisionTreeClassifier is 0.3054421768707483\n"
     ]
    },
    {
     "data": {
      "text/plain": [
       "('DecisionTreeClassifier', 0.3054421768707483)"
      ]
     },
     "execution_count": 24,
     "metadata": {},
     "output_type": "execute_result"
    }
   ],
   "source": [
    "quick_eval(train, mlp, cv=True)\n",
    "#quick_eval(train, gpc, cv=True)    TRY LATER, THIS WAS VERY SLOW\n",
    "#quick_eval(train, rbf, cv=True)   poor\n",
    "quick_eval(train, dt, cv=True)    "
   ]
  },
  {
   "cell_type": "code",
   "execution_count": 39,
   "metadata": {
    "ExecuteTime": {
     "end_time": "2020-01-04T20:18:41.146743Z",
     "start_time": "2020-01-04T17:29:24.217401Z"
    }
   },
   "outputs": [
    {
     "name": "stdout",
     "output_type": "stream",
     "text": [
      "The accuracy of BaggingClassifier is 0.5505935556811759\n",
      "The accuracy of BaggingClassifier is 0.5777275296777841\n",
      "The accuracy of BaggingClassifier is 0.5610514414923685\n"
     ]
    },
    {
     "data": {
      "text/plain": [
       "('BaggingClassifier', 0.5610514414923685)"
      ]
     },
     "execution_count": 39,
     "metadata": {},
     "output_type": "execute_result"
    }
   ],
   "source": [
    "bc_rf = BaggingClassifier(\n",
    "    base_estimator=RandomForestClassifier(max_depth=10),\n",
    "    n_estimators=200)\n",
    "\n",
    "bc_gbc = BaggingClassifier(\n",
    "    base_estimator=GradientBoostingClassifier(),\n",
    "    n_estimators=200)\n",
    "\n",
    "bc_abc = BaggingClassifier(\n",
    "    base_estimator=AdaBoostClassifier(),\n",
    "    n_estimators=200)\n",
    "\n",
    "quick_eval(train, bc_rf)    # 0.549 with 20 estimators max depth of 10  (.377 with balanced)    0.551 with 200 \n",
    "quick_eval(train, bc_gbc)   # 0.576 with 20 estimators (.389 with balanced)                     0.578 with 200\n",
    "quick_eval(train, bc_abc)   # 0.563 with 20 estimators  (.374 with balanced)                    0.561 with 200"
   ]
  },
  {
   "cell_type": "markdown",
   "metadata": {},
   "source": [
    "## Model Ensembling"
   ]
  },
  {
   "cell_type": "code",
   "execution_count": 26,
   "metadata": {
    "ExecuteTime": {
     "end_time": "2020-01-04T05:37:16.536735Z",
     "start_time": "2020-01-04T05:33:51.033504Z"
    }
   },
   "outputs": [
    {
     "name": "stdout",
     "output_type": "stream",
     "text": [
      "The accuracy of VotingClassifier is 0.3764172335600907\n"
     ]
    },
    {
     "data": {
      "text/plain": [
       "('VotingClassifier', 0.3764172335600907)"
      ]
     },
     "execution_count": 26,
     "metadata": {},
     "output_type": "execute_result"
    }
   ],
   "source": [
    "vc = VotingClassifier(estimators=[\n",
    "    ('Adaboost',ac),\n",
    "    ('rf', rf), \n",
    "    ('gbc', gbc),\n",
    "    ('et', et),\n",
    "    #('svc', svc),\n",
    "    ('rc', rc),\n",
    "    ('mlp', mlp),\n",
    "    ('dt', dt),\n",
    "    ('bc_rf', bc_rf),\n",
    "    ('bc_gbc', bc_gbc),\n",
    "    ('bc_abc', bc_abc),\n",
    "    #('catboost', clf)\n",
    "    ],\n",
    "     n_jobs=-1,\n",
    "     voting='hard')\n",
    "\n",
    "quick_eval(train, vc)#, cv=True)     #initial w/o catboost .564"
   ]
  },
  {
   "cell_type": "code",
   "execution_count": 27,
   "metadata": {
    "ExecuteTime": {
     "end_time": "2020-01-04T05:44:33.338410Z",
     "start_time": "2020-01-04T05:37:16.539738Z"
    },
    "scrolled": true
   },
   "outputs": [
    {
     "name": "stdout",
     "output_type": "stream",
     "text": [
      "The accuracy of StackingClassifier is 0.3854875283446712\n"
     ]
    },
    {
     "data": {
      "text/plain": [
       "('StackingClassifier', 0.3854875283446712)"
      ]
     },
     "execution_count": 27,
     "metadata": {},
     "output_type": "execute_result"
    }
   ],
   "source": [
    "estimators = [\n",
    "    ('Adaboost',ac),\n",
    "    ('rf', rf), \n",
    "    ('gbc', gbc),\n",
    "    ('et', et),\n",
    "    #('svc', svc),\n",
    "    ('rc', rc),\n",
    "    ('mlp', mlp),\n",
    "    ('dt', dt),\n",
    "    ('bc_rf', bc_rf),\n",
    "    ('bc_gbc', bc_gbc),\n",
    "    ('bc_abc', bc_abc),\n",
    "]\n",
    "stacking_clf = StackingClassifier(estimators=estimators, \n",
    "                final_estimator=RandomForestClassifier(), n_jobs=-1)        # created, load from pickle\n",
    "quick_eval(train, stacking_clf)"
   ]
  },
  {
   "cell_type": "code",
   "execution_count": 40,
   "metadata": {
    "ExecuteTime": {
     "end_time": "2020-01-04T01:55:29.383001Z",
     "start_time": "2020-01-04T01:55:24.242711Z"
    }
   },
   "outputs": [
    {
     "data": {
      "text/plain": [
       "['fitted_voting_classifier.pkl']"
      ]
     },
     "execution_count": 40,
     "metadata": {},
     "output_type": "execute_result"
    }
   ],
   "source": [
    "##joblib.dump(stacking_clf, 'fitted_stacked_classifier.pkl')\n",
    "##joblib.dump(vc, 'fitted_voting_classifier.pkl')"
   ]
  },
  {
   "cell_type": "markdown",
   "metadata": {},
   "source": [
    "## Create submission based on Brad's data prep"
   ]
  },
  {
   "cell_type": "code",
   "execution_count": 28,
   "metadata": {
    "ExecuteTime": {
     "end_time": "2020-01-04T05:47:29.123603Z",
     "start_time": "2020-01-04T05:47:27.105601Z"
    }
   },
   "outputs": [
    {
     "data": {
      "text/plain": [
       "3    379\n",
       "0    247\n",
       "2    216\n",
       "1    158\n",
       "Name: accuracy_group, dtype: int64"
      ]
     },
     "execution_count": 28,
     "metadata": {},
     "output_type": "execute_result"
    }
   ],
   "source": [
    "test_numerics_only = test._get_numeric_data()\n",
    "test_prediction = stacking_clf.predict(test_numerics_only)\n",
    "\n",
    "# To create a submission:\n",
    "submission = pd.DataFrame()\n",
    "submission['installation_id'] = test.installation_id\n",
    "submission['accuracy_group'] = test_prediction\n",
    "#submission.head()\n",
    "submission.to_csv('preds_balanced.csv')\n",
    "submission.accuracy_group.value_counts()"
   ]
  },
  {
   "cell_type": "code",
   "execution_count": 42,
   "metadata": {
    "ExecuteTime": {
     "end_time": "2020-01-04T01:56:24.730079Z",
     "start_time": "2020-01-04T01:56:24.695203Z"
    }
   },
   "outputs": [
    {
     "data": {
      "text/html": [
       "<div>\n",
       "<style scoped>\n",
       "    .dataframe tbody tr th:only-of-type {\n",
       "        vertical-align: middle;\n",
       "    }\n",
       "\n",
       "    .dataframe tbody tr th {\n",
       "        vertical-align: top;\n",
       "    }\n",
       "\n",
       "    .dataframe thead th {\n",
       "        text-align: right;\n",
       "    }\n",
       "</style>\n",
       "<table border=\"1\" class=\"dataframe\">\n",
       "  <thead>\n",
       "    <tr style=\"text-align: right;\">\n",
       "      <th></th>\n",
       "      <th>timestamp</th>\n",
       "      <th>event_count</th>\n",
       "      <th>event_code</th>\n",
       "      <th>game_time</th>\n",
       "      <th>title_12 Monkeys</th>\n",
       "      <th>title_Air Show</th>\n",
       "      <th>title_All Star Sorting</th>\n",
       "      <th>title_Balancing Act</th>\n",
       "      <th>title_Bird Measurer (Assessment)</th>\n",
       "      <th>title_Bottle Filler (Activity)</th>\n",
       "      <th>...</th>\n",
       "      <th>total_event_count</th>\n",
       "      <th>avg_event_count</th>\n",
       "      <th>avg_review_incorrect_feedback</th>\n",
       "      <th>avg_review_correct_feedback</th>\n",
       "      <th>total_rounds_beat</th>\n",
       "      <th>total_movies_skipped</th>\n",
       "      <th>total_movies_watched</th>\n",
       "      <th>total_elsewhere_clicks</th>\n",
       "      <th>total_help_button_clicks</th>\n",
       "      <th>total_play_again</th>\n",
       "    </tr>\n",
       "  </thead>\n",
       "  <tbody>\n",
       "    <tr>\n",
       "      <th>867</th>\n",
       "      <td>1568296332193000000</td>\n",
       "      <td>1</td>\n",
       "      <td>2000</td>\n",
       "      <td>0</td>\n",
       "      <td>2.0</td>\n",
       "      <td>0.0</td>\n",
       "      <td>79.0</td>\n",
       "      <td>1.0</td>\n",
       "      <td>0.0</td>\n",
       "      <td>0.0</td>\n",
       "      <td>...</td>\n",
       "      <td>47503</td>\n",
       "      <td>54.726959</td>\n",
       "      <td>1363.212121</td>\n",
       "      <td>2750.333333</td>\n",
       "      <td>7</td>\n",
       "      <td>0</td>\n",
       "      <td>0</td>\n",
       "      <td>190</td>\n",
       "      <td>0</td>\n",
       "      <td>0</td>\n",
       "    </tr>\n",
       "    <tr>\n",
       "      <th>2718</th>\n",
       "      <td>1570652596209000000</td>\n",
       "      <td>1</td>\n",
       "      <td>2000</td>\n",
       "      <td>0</td>\n",
       "      <td>1.0</td>\n",
       "      <td>72.0</td>\n",
       "      <td>56.0</td>\n",
       "      <td>3.0</td>\n",
       "      <td>61.0</td>\n",
       "      <td>221.0</td>\n",
       "      <td>...</td>\n",
       "      <td>174649</td>\n",
       "      <td>64.232806</td>\n",
       "      <td>2279.760000</td>\n",
       "      <td>2611.152778</td>\n",
       "      <td>82</td>\n",
       "      <td>2</td>\n",
       "      <td>7</td>\n",
       "      <td>385</td>\n",
       "      <td>2</td>\n",
       "      <td>0</td>\n",
       "    </tr>\n",
       "    <tr>\n",
       "      <th>149</th>\n",
       "      <td>1569065301757000000</td>\n",
       "      <td>1</td>\n",
       "      <td>2000</td>\n",
       "      <td>0</td>\n",
       "      <td>0.0</td>\n",
       "      <td>0.0</td>\n",
       "      <td>0.0</td>\n",
       "      <td>0.0</td>\n",
       "      <td>0.0</td>\n",
       "      <td>0.0</td>\n",
       "      <td>...</td>\n",
       "      <td>5191</td>\n",
       "      <td>34.606667</td>\n",
       "      <td>0.000000</td>\n",
       "      <td>0.000000</td>\n",
       "      <td>0</td>\n",
       "      <td>0</td>\n",
       "      <td>0</td>\n",
       "      <td>14</td>\n",
       "      <td>0</td>\n",
       "      <td>0</td>\n",
       "    </tr>\n",
       "    <tr>\n",
       "      <th>233</th>\n",
       "      <td>1564244890394000000</td>\n",
       "      <td>1</td>\n",
       "      <td>2000</td>\n",
       "      <td>0</td>\n",
       "      <td>1.0</td>\n",
       "      <td>0.0</td>\n",
       "      <td>78.0</td>\n",
       "      <td>0.0</td>\n",
       "      <td>0.0</td>\n",
       "      <td>0.0</td>\n",
       "      <td>...</td>\n",
       "      <td>9681</td>\n",
       "      <td>41.371795</td>\n",
       "      <td>3377.500000</td>\n",
       "      <td>2650.666667</td>\n",
       "      <td>3</td>\n",
       "      <td>0</td>\n",
       "      <td>0</td>\n",
       "      <td>28</td>\n",
       "      <td>1</td>\n",
       "      <td>0</td>\n",
       "    </tr>\n",
       "    <tr>\n",
       "      <th>951</th>\n",
       "      <td>1567793126197000000</td>\n",
       "      <td>1</td>\n",
       "      <td>2000</td>\n",
       "      <td>0</td>\n",
       "      <td>0.0</td>\n",
       "      <td>0.0</td>\n",
       "      <td>420.0</td>\n",
       "      <td>1.0</td>\n",
       "      <td>0.0</td>\n",
       "      <td>0.0</td>\n",
       "      <td>...</td>\n",
       "      <td>101904</td>\n",
       "      <td>107.042017</td>\n",
       "      <td>318.037037</td>\n",
       "      <td>2936.444444</td>\n",
       "      <td>25</td>\n",
       "      <td>0</td>\n",
       "      <td>1</td>\n",
       "      <td>134</td>\n",
       "      <td>0</td>\n",
       "      <td>5</td>\n",
       "    </tr>\n",
       "    <tr>\n",
       "      <th>...</th>\n",
       "      <td>...</td>\n",
       "      <td>...</td>\n",
       "      <td>...</td>\n",
       "      <td>...</td>\n",
       "      <td>...</td>\n",
       "      <td>...</td>\n",
       "      <td>...</td>\n",
       "      <td>...</td>\n",
       "      <td>...</td>\n",
       "      <td>...</td>\n",
       "      <td>...</td>\n",
       "      <td>...</td>\n",
       "      <td>...</td>\n",
       "      <td>...</td>\n",
       "      <td>...</td>\n",
       "      <td>...</td>\n",
       "      <td>...</td>\n",
       "      <td>...</td>\n",
       "      <td>...</td>\n",
       "      <td>...</td>\n",
       "      <td>...</td>\n",
       "    </tr>\n",
       "    <tr>\n",
       "      <th>211</th>\n",
       "      <td>1569635090390000000</td>\n",
       "      <td>1</td>\n",
       "      <td>2000</td>\n",
       "      <td>0</td>\n",
       "      <td>0.0</td>\n",
       "      <td>0.0</td>\n",
       "      <td>92.0</td>\n",
       "      <td>0.0</td>\n",
       "      <td>82.0</td>\n",
       "      <td>0.0</td>\n",
       "      <td>...</td>\n",
       "      <td>7407</td>\n",
       "      <td>34.938679</td>\n",
       "      <td>968.000000</td>\n",
       "      <td>2215.750000</td>\n",
       "      <td>7</td>\n",
       "      <td>0</td>\n",
       "      <td>0</td>\n",
       "      <td>41</td>\n",
       "      <td>0</td>\n",
       "      <td>1</td>\n",
       "    </tr>\n",
       "    <tr>\n",
       "      <th>302</th>\n",
       "      <td>1570987104776000000</td>\n",
       "      <td>1</td>\n",
       "      <td>2000</td>\n",
       "      <td>0</td>\n",
       "      <td>1.0</td>\n",
       "      <td>0.0</td>\n",
       "      <td>0.0</td>\n",
       "      <td>2.0</td>\n",
       "      <td>0.0</td>\n",
       "      <td>0.0</td>\n",
       "      <td>...</td>\n",
       "      <td>9459</td>\n",
       "      <td>31.217822</td>\n",
       "      <td>502.125000</td>\n",
       "      <td>3566.875000</td>\n",
       "      <td>7</td>\n",
       "      <td>0</td>\n",
       "      <td>0</td>\n",
       "      <td>56</td>\n",
       "      <td>0</td>\n",
       "      <td>2</td>\n",
       "    </tr>\n",
       "    <tr>\n",
       "      <th>525</th>\n",
       "      <td>1570480618937000000</td>\n",
       "      <td>1</td>\n",
       "      <td>2000</td>\n",
       "      <td>0</td>\n",
       "      <td>1.0</td>\n",
       "      <td>0.0</td>\n",
       "      <td>0.0</td>\n",
       "      <td>3.0</td>\n",
       "      <td>0.0</td>\n",
       "      <td>0.0</td>\n",
       "      <td>...</td>\n",
       "      <td>30362</td>\n",
       "      <td>57.722433</td>\n",
       "      <td>2216.500000</td>\n",
       "      <td>2076.300000</td>\n",
       "      <td>6</td>\n",
       "      <td>0</td>\n",
       "      <td>0</td>\n",
       "      <td>136</td>\n",
       "      <td>0</td>\n",
       "      <td>0</td>\n",
       "    </tr>\n",
       "    <tr>\n",
       "      <th>258</th>\n",
       "      <td>1568142042792000000</td>\n",
       "      <td>1</td>\n",
       "      <td>2000</td>\n",
       "      <td>0</td>\n",
       "      <td>0.0</td>\n",
       "      <td>0.0</td>\n",
       "      <td>0.0</td>\n",
       "      <td>1.0</td>\n",
       "      <td>0.0</td>\n",
       "      <td>0.0</td>\n",
       "      <td>...</td>\n",
       "      <td>9365</td>\n",
       "      <td>36.158301</td>\n",
       "      <td>1259.000000</td>\n",
       "      <td>3309.500000</td>\n",
       "      <td>2</td>\n",
       "      <td>0</td>\n",
       "      <td>0</td>\n",
       "      <td>45</td>\n",
       "      <td>2</td>\n",
       "      <td>0</td>\n",
       "    </tr>\n",
       "    <tr>\n",
       "      <th>44</th>\n",
       "      <td>1569705716105000000</td>\n",
       "      <td>1</td>\n",
       "      <td>2000</td>\n",
       "      <td>0</td>\n",
       "      <td>0.0</td>\n",
       "      <td>0.0</td>\n",
       "      <td>0.0</td>\n",
       "      <td>0.0</td>\n",
       "      <td>1.0</td>\n",
       "      <td>0.0</td>\n",
       "      <td>...</td>\n",
       "      <td>865</td>\n",
       "      <td>19.222222</td>\n",
       "      <td>0.000000</td>\n",
       "      <td>1561.250000</td>\n",
       "      <td>2</td>\n",
       "      <td>0</td>\n",
       "      <td>0</td>\n",
       "      <td>7</td>\n",
       "      <td>0</td>\n",
       "      <td>0</td>\n",
       "    </tr>\n",
       "  </tbody>\n",
       "</table>\n",
       "<p>1000 rows × 62 columns</p>\n",
       "</div>"
      ],
      "text/plain": [
       "                timestamp  event_count  event_code  game_time  \\\n",
       "867   1568296332193000000            1        2000          0   \n",
       "2718  1570652596209000000            1        2000          0   \n",
       "149   1569065301757000000            1        2000          0   \n",
       "233   1564244890394000000            1        2000          0   \n",
       "951   1567793126197000000            1        2000          0   \n",
       "...                   ...          ...         ...        ...   \n",
       "211   1569635090390000000            1        2000          0   \n",
       "302   1570987104776000000            1        2000          0   \n",
       "525   1570480618937000000            1        2000          0   \n",
       "258   1568142042792000000            1        2000          0   \n",
       "44    1569705716105000000            1        2000          0   \n",
       "\n",
       "      title_12 Monkeys  title_Air Show  title_All Star Sorting  \\\n",
       "867                2.0             0.0                    79.0   \n",
       "2718               1.0            72.0                    56.0   \n",
       "149                0.0             0.0                     0.0   \n",
       "233                1.0             0.0                    78.0   \n",
       "951                0.0             0.0                   420.0   \n",
       "...                ...             ...                     ...   \n",
       "211                0.0             0.0                    92.0   \n",
       "302                1.0             0.0                     0.0   \n",
       "525                1.0             0.0                     0.0   \n",
       "258                0.0             0.0                     0.0   \n",
       "44                 0.0             0.0                     0.0   \n",
       "\n",
       "      title_Balancing Act  title_Bird Measurer (Assessment)  \\\n",
       "867                   1.0                               0.0   \n",
       "2718                  3.0                              61.0   \n",
       "149                   0.0                               0.0   \n",
       "233                   0.0                               0.0   \n",
       "951                   1.0                               0.0   \n",
       "...                   ...                               ...   \n",
       "211                   0.0                              82.0   \n",
       "302                   2.0                               0.0   \n",
       "525                   3.0                               0.0   \n",
       "258                   1.0                               0.0   \n",
       "44                    0.0                               1.0   \n",
       "\n",
       "      title_Bottle Filler (Activity)  ...  total_event_count  avg_event_count  \\\n",
       "867                              0.0  ...              47503        54.726959   \n",
       "2718                           221.0  ...             174649        64.232806   \n",
       "149                              0.0  ...               5191        34.606667   \n",
       "233                              0.0  ...               9681        41.371795   \n",
       "951                              0.0  ...             101904       107.042017   \n",
       "...                              ...  ...                ...              ...   \n",
       "211                              0.0  ...               7407        34.938679   \n",
       "302                              0.0  ...               9459        31.217822   \n",
       "525                              0.0  ...              30362        57.722433   \n",
       "258                              0.0  ...               9365        36.158301   \n",
       "44                               0.0  ...                865        19.222222   \n",
       "\n",
       "      avg_review_incorrect_feedback  avg_review_correct_feedback  \\\n",
       "867                     1363.212121                  2750.333333   \n",
       "2718                    2279.760000                  2611.152778   \n",
       "149                        0.000000                     0.000000   \n",
       "233                     3377.500000                  2650.666667   \n",
       "951                      318.037037                  2936.444444   \n",
       "...                             ...                          ...   \n",
       "211                      968.000000                  2215.750000   \n",
       "302                      502.125000                  3566.875000   \n",
       "525                     2216.500000                  2076.300000   \n",
       "258                     1259.000000                  3309.500000   \n",
       "44                         0.000000                  1561.250000   \n",
       "\n",
       "      total_rounds_beat  total_movies_skipped  total_movies_watched  \\\n",
       "867                   7                     0                     0   \n",
       "2718                 82                     2                     7   \n",
       "149                   0                     0                     0   \n",
       "233                   3                     0                     0   \n",
       "951                  25                     0                     1   \n",
       "...                 ...                   ...                   ...   \n",
       "211                   7                     0                     0   \n",
       "302                   7                     0                     0   \n",
       "525                   6                     0                     0   \n",
       "258                   2                     0                     0   \n",
       "44                    2                     0                     0   \n",
       "\n",
       "      total_elsewhere_clicks  total_help_button_clicks  total_play_again  \n",
       "867                      190                         0                 0  \n",
       "2718                     385                         2                 0  \n",
       "149                       14                         0                 0  \n",
       "233                       28                         1                 0  \n",
       "951                      134                         0                 5  \n",
       "...                      ...                       ...               ...  \n",
       "211                       41                         0                 1  \n",
       "302                       56                         0                 2  \n",
       "525                      136                         0                 0  \n",
       "258                       45                         2                 0  \n",
       "44                         7                         0                 0  \n",
       "\n",
       "[1000 rows x 62 columns]"
      ]
     },
     "execution_count": 42,
     "metadata": {},
     "output_type": "execute_result"
    }
   ],
   "source": [
    "test"
   ]
  },
  {
   "cell_type": "code",
   "execution_count": null,
   "metadata": {},
   "outputs": [],
   "source": []
  },
  {
   "cell_type": "code",
   "execution_count": null,
   "metadata": {},
   "outputs": [],
   "source": []
  },
  {
   "cell_type": "code",
   "execution_count": null,
   "metadata": {},
   "outputs": [],
   "source": []
  },
  {
   "cell_type": "code",
   "execution_count": null,
   "metadata": {},
   "outputs": [],
   "source": []
  },
  {
   "cell_type": "code",
   "execution_count": null,
   "metadata": {},
   "outputs": [],
   "source": []
  },
  {
   "cell_type": "code",
   "execution_count": null,
   "metadata": {},
   "outputs": [],
   "source": []
  },
  {
   "cell_type": "code",
   "execution_count": null,
   "metadata": {},
   "outputs": [],
   "source": []
  },
  {
   "cell_type": "code",
   "execution_count": null,
   "metadata": {},
   "outputs": [],
   "source": []
  },
  {
   "cell_type": "code",
   "execution_count": null,
   "metadata": {},
   "outputs": [],
   "source": []
  },
  {
   "cell_type": "code",
   "execution_count": null,
   "metadata": {},
   "outputs": [],
   "source": []
  },
  {
   "cell_type": "code",
   "execution_count": null,
   "metadata": {},
   "outputs": [],
   "source": []
  },
  {
   "cell_type": "code",
   "execution_count": null,
   "metadata": {},
   "outputs": [],
   "source": []
  },
  {
   "cell_type": "code",
   "execution_count": null,
   "metadata": {},
   "outputs": [],
   "source": []
  },
  {
   "cell_type": "markdown",
   "metadata": {},
   "source": [
    "## Try original datasets"
   ]
  },
  {
   "cell_type": "code",
   "execution_count": 88,
   "metadata": {
    "ExecuteTime": {
     "end_time": "2020-01-04T04:39:47.070269Z",
     "start_time": "2020-01-04T04:39:47.047285Z"
    },
    "scrolled": true
   },
   "outputs": [],
   "source": [
    "#trainX = pd.read_csv('trainX.csv')\n",
    "#test = pd.read_csv('trainY.csv')\n",
    "#testX = pd.read_csv('testX.csv')"
   ]
  },
  {
   "cell_type": "code",
   "execution_count": 89,
   "metadata": {
    "ExecuteTime": {
     "end_time": "2020-01-04T04:39:47.598457Z",
     "start_time": "2020-01-04T04:39:47.454285Z"
    }
   },
   "outputs": [],
   "source": [
    "train = pd.read_csv('full_train.csv')"
   ]
  },
  {
   "cell_type": "code",
   "execution_count": 97,
   "metadata": {
    "ExecuteTime": {
     "end_time": "2020-01-04T04:45:31.376575Z",
     "start_time": "2020-01-04T04:45:31.320405Z"
    }
   },
   "outputs": [],
   "source": [
    "test = pd.read_csv('original_X_test.csv')"
   ]
  },
  {
   "cell_type": "code",
   "execution_count": 106,
   "metadata": {
    "ExecuteTime": {
     "end_time": "2020-01-04T04:54:17.325820Z",
     "start_time": "2020-01-04T04:54:17.308842Z"
    }
   },
   "outputs": [],
   "source": [
    "train = train.drop('game_session', axis=1)\n",
    "test = test.drop('game_session', axis=1)"
   ]
  },
  {
   "cell_type": "code",
   "execution_count": 107,
   "metadata": {
    "ExecuteTime": {
     "end_time": "2020-01-04T04:55:45.066505Z",
     "start_time": "2020-01-04T04:54:28.256412Z"
    }
   },
   "outputs": [
    {
     "name": "stderr",
     "output_type": "stream",
     "text": [
      "[Parallel(n_jobs=1)]: Using backend SequentialBackend with 1 concurrent workers.\n",
      "[Parallel(n_jobs=1)]: Done 100 out of 100 | elapsed:    0.0s finished\n"
     ]
    },
    {
     "name": "stdout",
     "output_type": "stream",
     "text": [
      "The accuracy of VotingClassifier is 0.6044260027662517\n"
     ]
    },
    {
     "data": {
      "text/plain": [
       "('VotingClassifier', 0.6044260027662517)"
      ]
     },
     "execution_count": 107,
     "metadata": {},
     "output_type": "execute_result"
    }
   ],
   "source": [
    "vc = VotingClassifier(estimators=[\n",
    "    ('Adaboost',ac),\n",
    "    ('rf', rf), \n",
    "    ('gbc', gbc),\n",
    "    ('et', et),\n",
    "    #('svc', svc),\n",
    "    ('rc', rc),\n",
    "    ('mlp', mlp),\n",
    "    ('dt', dt),\n",
    "    ('bc_rf', bc_rf),\n",
    "    ('bc_gbc', bc_gbc),\n",
    "    ('bc_abc', bc_abc),\n",
    "    #('catboost', clf)\n",
    "    ],\n",
    "     n_jobs=-1,\n",
    "     voting='hard')\n",
    "\n",
    "quick_eval(train, vc)#, cv=True)     #initial w/o catboost .564"
   ]
  },
  {
   "cell_type": "code",
   "execution_count": 84,
   "metadata": {
    "ExecuteTime": {
     "end_time": "2020-01-04T04:33:27.653658Z",
     "start_time": "2020-01-04T04:30:41.464176Z"
    }
   },
   "outputs": [
    {
     "name": "stderr",
     "output_type": "stream",
     "text": [
      "[Parallel(n_jobs=1)]: Using backend SequentialBackend with 1 concurrent workers.\n",
      "[Parallel(n_jobs=1)]: Done 100 out of 100 | elapsed:    0.0s finished\n"
     ]
    },
    {
     "name": "stdout",
     "output_type": "stream",
     "text": [
      "The accuracy of StackingClassifier is 0.6085753803596127\n"
     ]
    },
    {
     "data": {
      "text/plain": [
       "('StackingClassifier', 0.6085753803596127)"
      ]
     },
     "execution_count": 84,
     "metadata": {},
     "output_type": "execute_result"
    }
   ],
   "source": [
    "estimators = [\n",
    "    ('Adaboost',ac),\n",
    "    ('rf', rf), \n",
    "    ('gbc', gbc),\n",
    "    ('et', et),\n",
    "    #('svc', svc),\n",
    "    ('rc', rc),\n",
    "    ('mlp', mlp),\n",
    "    ('dt', dt),\n",
    "    ('bc_rf', bc_rf),\n",
    "    ('bc_gbc', bc_gbc),\n",
    "    ('bc_abc', bc_abc),\n",
    "]\n",
    "stacking_clf = StackingClassifier(estimators=estimators, \n",
    "                final_estimator=RandomForestClassifier(), n_jobs=-1)        # created, load from pickle\n",
    "quick_eval(train, stacking_clf)"
   ]
  },
  {
   "cell_type": "code",
   "execution_count": 104,
   "metadata": {
    "ExecuteTime": {
     "end_time": "2020-01-04T04:52:17.771789Z",
     "start_time": "2020-01-04T04:52:17.743829Z"
    }
   },
   "outputs": [
    {
     "data": {
      "text/html": [
       "<div>\n",
       "<style scoped>\n",
       "    .dataframe tbody tr th:only-of-type {\n",
       "        vertical-align: middle;\n",
       "    }\n",
       "\n",
       "    .dataframe tbody tr th {\n",
       "        vertical-align: top;\n",
       "    }\n",
       "\n",
       "    .dataframe thead th {\n",
       "        text-align: right;\n",
       "    }\n",
       "</style>\n",
       "<table border=\"1\" class=\"dataframe\">\n",
       "  <thead>\n",
       "    <tr style=\"text-align: right;\">\n",
       "      <th></th>\n",
       "      <th>game_session</th>\n",
       "      <th>Clip</th>\n",
       "      <th>Activity</th>\n",
       "      <th>Assessment</th>\n",
       "      <th>Game</th>\n",
       "      <th>Chow Time</th>\n",
       "      <th>Pirate's Tale</th>\n",
       "      <th>Chicken Balancer (Activity)</th>\n",
       "      <th>Dino Drink</th>\n",
       "      <th>Bug Measurer (Activity)</th>\n",
       "      <th>...</th>\n",
       "      <th>session_title_33</th>\n",
       "      <th>session_title_34</th>\n",
       "      <th>session_title_35</th>\n",
       "      <th>session_title_36</th>\n",
       "      <th>session_title_37</th>\n",
       "      <th>session_title_38</th>\n",
       "      <th>session_title_39</th>\n",
       "      <th>session_title_40</th>\n",
       "      <th>session_title_41</th>\n",
       "      <th>session_title_42</th>\n",
       "    </tr>\n",
       "  </thead>\n",
       "  <tbody>\n",
       "    <tr>\n",
       "      <th>0</th>\n",
       "      <td>348d7f09f96af313</td>\n",
       "      <td>0.0</td>\n",
       "      <td>0.0</td>\n",
       "      <td>0.000000</td>\n",
       "      <td>0.0</td>\n",
       "      <td>0.000000</td>\n",
       "      <td>0.0</td>\n",
       "      <td>0.000000</td>\n",
       "      <td>0.0</td>\n",
       "      <td>0.0</td>\n",
       "      <td>...</td>\n",
       "      <td>0</td>\n",
       "      <td>0</td>\n",
       "      <td>0</td>\n",
       "      <td>0</td>\n",
       "      <td>0</td>\n",
       "      <td>0</td>\n",
       "      <td>0</td>\n",
       "      <td>0</td>\n",
       "      <td>0</td>\n",
       "      <td>0</td>\n",
       "    </tr>\n",
       "    <tr>\n",
       "      <th>1</th>\n",
       "      <td>1fef5d54cb4b775a</td>\n",
       "      <td>0.0</td>\n",
       "      <td>0.0</td>\n",
       "      <td>0.111111</td>\n",
       "      <td>0.0</td>\n",
       "      <td>0.011361</td>\n",
       "      <td>0.0</td>\n",
       "      <td>0.159763</td>\n",
       "      <td>0.0</td>\n",
       "      <td>0.0</td>\n",
       "      <td>...</td>\n",
       "      <td>0</td>\n",
       "      <td>0</td>\n",
       "      <td>0</td>\n",
       "      <td>0</td>\n",
       "      <td>0</td>\n",
       "      <td>0</td>\n",
       "      <td>0</td>\n",
       "      <td>0</td>\n",
       "      <td>0</td>\n",
       "      <td>0</td>\n",
       "    </tr>\n",
       "    <tr>\n",
       "      <th>2</th>\n",
       "      <td>4b165a330a0bdd6c</td>\n",
       "      <td>0.0</td>\n",
       "      <td>0.0</td>\n",
       "      <td>0.000000</td>\n",
       "      <td>0.0</td>\n",
       "      <td>0.000000</td>\n",
       "      <td>0.0</td>\n",
       "      <td>0.000000</td>\n",
       "      <td>0.0</td>\n",
       "      <td>0.0</td>\n",
       "      <td>...</td>\n",
       "      <td>0</td>\n",
       "      <td>0</td>\n",
       "      <td>0</td>\n",
       "      <td>0</td>\n",
       "      <td>0</td>\n",
       "      <td>0</td>\n",
       "      <td>0</td>\n",
       "      <td>0</td>\n",
       "      <td>0</td>\n",
       "      <td>0</td>\n",
       "    </tr>\n",
       "    <tr>\n",
       "      <th>3</th>\n",
       "      <td>be0b655ad1fee30c</td>\n",
       "      <td>0.0</td>\n",
       "      <td>0.0</td>\n",
       "      <td>0.000000</td>\n",
       "      <td>0.0</td>\n",
       "      <td>0.000000</td>\n",
       "      <td>0.0</td>\n",
       "      <td>0.000000</td>\n",
       "      <td>0.0</td>\n",
       "      <td>0.0</td>\n",
       "      <td>...</td>\n",
       "      <td>0</td>\n",
       "      <td>0</td>\n",
       "      <td>0</td>\n",
       "      <td>0</td>\n",
       "      <td>0</td>\n",
       "      <td>0</td>\n",
       "      <td>0</td>\n",
       "      <td>0</td>\n",
       "      <td>0</td>\n",
       "      <td>0</td>\n",
       "    </tr>\n",
       "    <tr>\n",
       "      <th>4</th>\n",
       "      <td>46e8bbed71df7520</td>\n",
       "      <td>0.0</td>\n",
       "      <td>0.0</td>\n",
       "      <td>0.000000</td>\n",
       "      <td>0.0</td>\n",
       "      <td>0.022516</td>\n",
       "      <td>0.0</td>\n",
       "      <td>0.326923</td>\n",
       "      <td>0.0</td>\n",
       "      <td>0.0</td>\n",
       "      <td>...</td>\n",
       "      <td>0</td>\n",
       "      <td>0</td>\n",
       "      <td>0</td>\n",
       "      <td>0</td>\n",
       "      <td>0</td>\n",
       "      <td>0</td>\n",
       "      <td>0</td>\n",
       "      <td>0</td>\n",
       "      <td>0</td>\n",
       "      <td>0</td>\n",
       "    </tr>\n",
       "  </tbody>\n",
       "</table>\n",
       "<p>5 rows × 190 columns</p>\n",
       "</div>"
      ],
      "text/plain": [
       "       game_session  Clip  Activity  Assessment  Game  Chow Time  \\\n",
       "0  348d7f09f96af313   0.0       0.0    0.000000   0.0   0.000000   \n",
       "1  1fef5d54cb4b775a   0.0       0.0    0.111111   0.0   0.011361   \n",
       "2  4b165a330a0bdd6c   0.0       0.0    0.000000   0.0   0.000000   \n",
       "3  be0b655ad1fee30c   0.0       0.0    0.000000   0.0   0.000000   \n",
       "4  46e8bbed71df7520   0.0       0.0    0.000000   0.0   0.022516   \n",
       "\n",
       "   Pirate's Tale  Chicken Balancer (Activity)  Dino Drink  \\\n",
       "0            0.0                     0.000000         0.0   \n",
       "1            0.0                     0.159763         0.0   \n",
       "2            0.0                     0.000000         0.0   \n",
       "3            0.0                     0.000000         0.0   \n",
       "4            0.0                     0.326923         0.0   \n",
       "\n",
       "   Bug Measurer (Activity)  ...  session_title_33  session_title_34  \\\n",
       "0                      0.0  ...                 0                 0   \n",
       "1                      0.0  ...                 0                 0   \n",
       "2                      0.0  ...                 0                 0   \n",
       "3                      0.0  ...                 0                 0   \n",
       "4                      0.0  ...                 0                 0   \n",
       "\n",
       "   session_title_35  session_title_36  session_title_37  session_title_38  \\\n",
       "0                 0                 0                 0                 0   \n",
       "1                 0                 0                 0                 0   \n",
       "2                 0                 0                 0                 0   \n",
       "3                 0                 0                 0                 0   \n",
       "4                 0                 0                 0                 0   \n",
       "\n",
       "   session_title_39  session_title_40  session_title_41  session_title_42  \n",
       "0                 0                 0                 0                 0  \n",
       "1                 0                 0                 0                 0  \n",
       "2                 0                 0                 0                 0  \n",
       "3                 0                 0                 0                 0  \n",
       "4                 0                 0                 0                 0  \n",
       "\n",
       "[5 rows x 190 columns]"
      ]
     },
     "execution_count": 104,
     "metadata": {},
     "output_type": "execute_result"
    }
   ],
   "source": [
    "test.head()"
   ]
  },
  {
   "cell_type": "code",
   "execution_count": null,
   "metadata": {},
   "outputs": [],
   "source": []
  },
  {
   "cell_type": "code",
   "execution_count": null,
   "metadata": {},
   "outputs": [],
   "source": []
  },
  {
   "cell_type": "code",
   "execution_count": null,
   "metadata": {},
   "outputs": [],
   "source": []
  },
  {
   "cell_type": "code",
   "execution_count": null,
   "metadata": {},
   "outputs": [],
   "source": []
  },
  {
   "cell_type": "code",
   "execution_count": null,
   "metadata": {},
   "outputs": [],
   "source": []
  },
  {
   "cell_type": "code",
   "execution_count": null,
   "metadata": {},
   "outputs": [],
   "source": []
  },
  {
   "cell_type": "code",
   "execution_count": null,
   "metadata": {},
   "outputs": [],
   "source": []
  },
  {
   "cell_type": "code",
   "execution_count": null,
   "metadata": {},
   "outputs": [],
   "source": []
  },
  {
   "cell_type": "code",
   "execution_count": null,
   "metadata": {},
   "outputs": [],
   "source": []
  },
  {
   "cell_type": "code",
   "execution_count": null,
   "metadata": {},
   "outputs": [],
   "source": []
  },
  {
   "cell_type": "code",
   "execution_count": null,
   "metadata": {},
   "outputs": [],
   "source": []
  },
  {
   "cell_type": "code",
   "execution_count": null,
   "metadata": {},
   "outputs": [],
   "source": []
  },
  {
   "cell_type": "code",
   "execution_count": null,
   "metadata": {},
   "outputs": [],
   "source": []
  },
  {
   "cell_type": "code",
   "execution_count": null,
   "metadata": {},
   "outputs": [],
   "source": []
  },
  {
   "cell_type": "code",
   "execution_count": null,
   "metadata": {},
   "outputs": [],
   "source": []
  },
  {
   "cell_type": "code",
   "execution_count": null,
   "metadata": {},
   "outputs": [],
   "source": []
  },
  {
   "cell_type": "code",
   "execution_count": null,
   "metadata": {},
   "outputs": [],
   "source": []
  },
  {
   "cell_type": "code",
   "execution_count": null,
   "metadata": {},
   "outputs": [],
   "source": []
  },
  {
   "cell_type": "code",
   "execution_count": null,
   "metadata": {},
   "outputs": [],
   "source": []
  },
  {
   "cell_type": "code",
   "execution_count": null,
   "metadata": {},
   "outputs": [],
   "source": []
  },
  {
   "cell_type": "code",
   "execution_count": null,
   "metadata": {},
   "outputs": [],
   "source": []
  },
  {
   "cell_type": "markdown",
   "metadata": {},
   "source": [
    "## Predict on original Datasets"
   ]
  },
  {
   "cell_type": "code",
   "execution_count": 108,
   "metadata": {
    "ExecuteTime": {
     "end_time": "2020-01-04T04:56:26.739478Z",
     "start_time": "2020-01-04T04:56:23.460310Z"
    }
   },
   "outputs": [
    {
     "name": "stderr",
     "output_type": "stream",
     "text": [
      "[Parallel(n_jobs=1)]: Using backend SequentialBackend with 1 concurrent workers.\n",
      "[Parallel(n_jobs=1)]: Done 100 out of 100 | elapsed:    0.0s finished\n"
     ]
    },
    {
     "data": {
      "text/html": [
       "<div>\n",
       "<style scoped>\n",
       "    .dataframe tbody tr th:only-of-type {\n",
       "        vertical-align: middle;\n",
       "    }\n",
       "\n",
       "    .dataframe tbody tr th {\n",
       "        vertical-align: top;\n",
       "    }\n",
       "\n",
       "    .dataframe thead th {\n",
       "        text-align: right;\n",
       "    }\n",
       "</style>\n",
       "<table border=\"1\" class=\"dataframe\">\n",
       "  <thead>\n",
       "    <tr style=\"text-align: right;\">\n",
       "      <th></th>\n",
       "      <th>installation_id</th>\n",
       "      <th>accuracy_group</th>\n",
       "    </tr>\n",
       "  </thead>\n",
       "  <tbody>\n",
       "    <tr>\n",
       "      <th>0</th>\n",
       "      <td>00abaee7</td>\n",
       "      <td>3</td>\n",
       "    </tr>\n",
       "    <tr>\n",
       "      <th>1</th>\n",
       "      <td>01242218</td>\n",
       "      <td>3</td>\n",
       "    </tr>\n",
       "    <tr>\n",
       "      <th>2</th>\n",
       "      <td>017c5718</td>\n",
       "      <td>3</td>\n",
       "    </tr>\n",
       "    <tr>\n",
       "      <th>3</th>\n",
       "      <td>01a44906</td>\n",
       "      <td>3</td>\n",
       "    </tr>\n",
       "    <tr>\n",
       "      <th>4</th>\n",
       "      <td>01bc6cb6</td>\n",
       "      <td>3</td>\n",
       "    </tr>\n",
       "  </tbody>\n",
       "</table>\n",
       "</div>"
      ],
      "text/plain": [
       "  installation_id  accuracy_group\n",
       "0        00abaee7               3\n",
       "1        01242218               3\n",
       "2        017c5718               3\n",
       "3        01a44906               3\n",
       "4        01bc6cb6               3"
      ]
     },
     "execution_count": 108,
     "metadata": {},
     "output_type": "execute_result"
    }
   ],
   "source": [
    "#test_numerics_only = test._get_numeric_data()\n",
    "final_prediction = vc.predict(test)\n",
    "sample_sub = pd.read_csv('data/sample_submission.csv')\n",
    "# To create a submission:\n",
    "submission = pd.DataFrame()\n",
    "submission['installation_id'] = sample_sub.installation_id\n",
    "submission['accuracy_group'] = final_prediction\n",
    "submission.head()"
   ]
  },
  {
   "cell_type": "code",
   "execution_count": 109,
   "metadata": {
    "ExecuteTime": {
     "end_time": "2020-01-04T04:56:46.130784Z",
     "start_time": "2020-01-04T04:56:46.116241Z"
    }
   },
   "outputs": [
    {
     "data": {
      "text/plain": [
       "3    732\n",
       "0    252\n",
       "1     14\n",
       "2      2\n",
       "Name: accuracy_group, dtype: int64"
      ]
     },
     "execution_count": 109,
     "metadata": {},
     "output_type": "execute_result"
    }
   ],
   "source": [
    "submission.accuracy_group.value_counts()"
   ]
  },
  {
   "cell_type": "code",
   "execution_count": 110,
   "metadata": {
    "ExecuteTime": {
     "end_time": "2020-01-04T04:57:03.821489Z",
     "start_time": "2020-01-04T04:57:03.797490Z"
    }
   },
   "outputs": [
    {
     "data": {
      "text/plain": [
       "3    732\n",
       "0    252\n",
       "1     14\n",
       "2      2\n",
       "Name: accuracy_group, dtype: int64"
      ]
     },
     "execution_count": 110,
     "metadata": {},
     "output_type": "execute_result"
    }
   ],
   "source": [
    "submission.to_csv('preds2.csv', index=False)\n",
    "submission.accuracy_group.value_counts()"
   ]
  },
  {
   "cell_type": "code",
   "execution_count": 111,
   "metadata": {
    "ExecuteTime": {
     "end_time": "2020-01-04T05:00:58.951516Z",
     "start_time": "2020-01-04T05:00:58.943513Z"
    }
   },
   "outputs": [],
   "source": [
    "from sklearn.metrics import cohen_kappa_score"
   ]
  },
  {
   "cell_type": "code",
   "execution_count": 40,
   "metadata": {
    "ExecuteTime": {
     "end_time": "2020-01-05T19:27:17.481379Z",
     "start_time": "2020-01-05T19:27:17.333380Z"
    }
   },
   "outputs": [
    {
     "ename": "NameError",
     "evalue": "name 'cohen_kappa_score' is not defined",
     "output_type": "error",
     "traceback": [
      "\u001b[1;31m---------------------------------------------------------------------------\u001b[0m",
      "\u001b[1;31mNameError\u001b[0m                                 Traceback (most recent call last)",
      "\u001b[1;32m<ipython-input-40-d25a8998a5b3>\u001b[0m in \u001b[0;36m<module>\u001b[1;34m\u001b[0m\n\u001b[1;32m----> 1\u001b[1;33m \u001b[0mcohen_kappa_score\u001b[0m\u001b[1;33m(\u001b[0m\u001b[0my_pred\u001b[0m\u001b[1;33m,\u001b[0m \u001b[0my_test\u001b[0m\u001b[1;33m)\u001b[0m\u001b[1;33m\u001b[0m\u001b[0m\n\u001b[0m",
      "\u001b[1;31mNameError\u001b[0m: name 'cohen_kappa_score' is not defined"
     ]
    }
   ],
   "source": [
    "cohen_kappa_score(y_pred, y_test)"
   ]
  },
  {
   "cell_type": "code",
   "execution_count": 42,
   "metadata": {
    "ExecuteTime": {
     "end_time": "2020-01-05T19:39:06.246909Z",
     "start_time": "2020-01-05T19:39:03.630811Z"
    }
   },
   "outputs": [
    {
     "data": {
      "text/plain": [
       "((17690, 891), (1000, 891))"
      ]
     },
     "execution_count": 42,
     "metadata": {},
     "output_type": "execute_result"
    }
   ],
   "source": [
    "reduced_train = pd.read_csv('reduce_train.csv')\n",
    "reduced_test = pd.read_csv('reduce_test.csv')\n",
    "reduced_train.shape, reduced_test.shape"
   ]
  },
  {
   "cell_type": "code",
   "execution_count": 44,
   "metadata": {
    "ExecuteTime": {
     "end_time": "2020-01-05T19:43:18.246844Z",
     "start_time": "2020-01-05T19:40:35.353790Z"
    }
   },
   "outputs": [
    {
     "name": "stdout",
     "output_type": "stream",
     "text": [
      "The CV score of RandomForestClassifier is 0.5391746749576032\n",
      "The CV score of RandomForestClassifier is 0.5603165630299605\n"
     ]
    },
    {
     "data": {
      "text/plain": [
       "('RandomForestClassifier', 0.5603165630299605)"
      ]
     },
     "execution_count": 44,
     "metadata": {},
     "output_type": "execute_result"
    }
   ],
   "source": [
    "quick_eval(train, rf, cv=True)\n",
    "quick_eval(reduced_train, rf, cv=True)"
   ]
  },
  {
   "cell_type": "code",
   "execution_count": null,
   "metadata": {},
   "outputs": [],
   "source": []
  }
 ],
 "metadata": {
  "hide_input": false,
  "kernelspec": {
   "display_name": "DataScienceBowl",
   "language": "python",
   "name": "datasciencebowl"
  },
  "language_info": {
   "codemirror_mode": {
    "name": "ipython",
    "version": 3
   },
   "file_extension": ".py",
   "mimetype": "text/x-python",
   "name": "python",
   "nbconvert_exporter": "python",
   "pygments_lexer": "ipython3",
   "version": "3.7.0"
  }
 },
 "nbformat": 4,
 "nbformat_minor": 2
}
