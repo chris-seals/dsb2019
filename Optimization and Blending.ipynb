{
 "cells": [
  {
   "cell_type": "code",
   "execution_count": 1,
   "metadata": {
    "ExecuteTime": {
     "end_time": "2020-01-08T15:31:36.664950Z",
     "start_time": "2020-01-08T15:31:36.660952Z"
    }
   },
   "outputs": [],
   "source": [
    "dicts = [\n",
    "    {'type':'manned', 'zone':'two'},\n",
    "    {'type':'unmanned', 'zone':'one'},\n",
    "    \n",
    "]"
   ]
  },
  {
   "cell_type": "code",
   "execution_count": 2,
   "metadata": {
    "ExecuteTime": {
     "end_time": "2020-01-08T15:31:36.797954Z",
     "start_time": "2020-01-08T15:31:36.795954Z"
    }
   },
   "outputs": [],
   "source": [
    "new_list = []\n",
    "for rec in dicts:\n",
    "    if rec['type']=='manned':\n",
    "        new_list.append(rec)"
   ]
  },
  {
   "cell_type": "code",
   "execution_count": 3,
   "metadata": {
    "ExecuteTime": {
     "end_time": "2020-01-08T15:31:39.178026Z",
     "start_time": "2020-01-08T15:31:39.170027Z"
    }
   },
   "outputs": [
    {
     "data": {
      "text/plain": [
       "[{'type': 'manned', 'zone': 'two'}]"
      ]
     },
     "execution_count": 3,
     "metadata": {},
     "output_type": "execute_result"
    }
   ],
   "source": [
    "new_list"
   ]
  },
  {
   "cell_type": "code",
   "execution_count": 5,
   "metadata": {
    "ExecuteTime": {
     "end_time": "2020-01-08T15:34:05.690965Z",
     "start_time": "2020-01-08T15:34:05.684968Z"
    }
   },
   "outputs": [
    {
     "data": {
      "text/plain": [
       "[{'type': 'manned', 'zone': 'two'}]"
      ]
     },
     "execution_count": 5,
     "metadata": {},
     "output_type": "execute_result"
    }
   ],
   "source": [
    "new_list = [rec for rec in dicts if rec['type']=='manned']\n",
    "new_list"
   ]
  },
  {
   "cell_type": "code",
   "execution_count": null,
   "metadata": {},
   "outputs": [],
   "source": []
  }
 ],
 "metadata": {
  "hide_input": false,
  "kernelspec": {
   "display_name": "DataScienceBowl",
   "language": "python",
   "name": "datasciencebowl"
  },
  "language_info": {
   "codemirror_mode": {
    "name": "ipython",
    "version": 3
   },
   "file_extension": ".py",
   "mimetype": "text/x-python",
   "name": "python",
   "nbconvert_exporter": "python",
   "pygments_lexer": "ipython3",
   "version": "3.7.0"
  }
 },
 "nbformat": 4,
 "nbformat_minor": 2
}
